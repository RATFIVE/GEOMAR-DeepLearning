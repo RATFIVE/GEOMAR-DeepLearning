{
 "cells": [
  {
   "cell_type": "code",
   "execution_count": 2,
   "metadata": {},
   "outputs": [],
   "source": [
    "from utils.Copernicus import AdvancedCopernicus\n",
    "import xarray as xr\n",
    "import numpy as np\n",
    "import pandas as pd\n",
    "import folium\n",
    "from pathlib import Path"
   ]
  },
  {
   "cell_type": "code",
   "execution_count": null,
   "metadata": {},
   "outputs": [
    {
     "name": "stderr",
     "output_type": "stream",
     "text": [
      "INFO - 2025-03-11T11:31:22Z - Selected dataset version: \"202411\"\n",
      "INFO - 2025-03-11T11:31:22Z - Selected dataset part: \"default\"\n",
      "INFO - 2025-03-11T11:31:42Z - Starting download. Please wait...\n",
      "  0%|          | 892/854674 [00:29<2:29:08, 95.41it/s] "
     ]
    }
   ],
   "source": [
    "copernicus = AdvancedCopernicus()\n",
    "\n",
    "\n",
    "BBOX= {\n",
    "    \n",
    "    \"minimum_longitude\":9.10,\n",
    "    \"maximum_longitude\":30.20,\n",
    "    \"minimum_latitude\":53.10,\n",
    "    \"maximum_latitude\":65.00,\n",
    "\n",
    "    # \"minimum_longitude\":9.85083510071235,\n",
    "    # \"maximum_longitude\":10.926709174713364,\n",
    "    # \"minimum_latitude\":54.25206332481298,\n",
    "    # \"maximum_latitude\":54.97306793985031,\n",
    "\n",
    "    \"target_min_lon\":10.156,\n",
    "    \"target_max_lon\":10.170,\n",
    "    \"target_min_lat\":54.354,\n",
    "    \"target_max_lat\":54.365\n",
    "    }\n",
    "\n",
    "START_DATE = '2023-01-01'\n",
    "END_DATE = '2025-03-01'\n",
    "\n",
    "output_filename = Path(\"data\", f'Copernicus_{START_DATE}_{END_DATE}_lat{BBOX[\"minimum_latitude\"]}-{BBOX[\"maximum_latitude\"]}_lon{BBOX[\"minimum_longitude\"]}{BBOX[\"maximum_longitude\"]}.nc')\n",
    "\n",
    "variables = [\"bottomT\", \"mlotst\", \"siconc\", \"sithick\", \"sla\", \"so\", \"sob\", \"thetao\", \"uo\", \"vo\", \"wo\"]\n",
    "\n",
    "\n",
    "data = copernicus.get_subset(\n",
    "            dataset_id=\"cmems_mod_bal_phy_anfc_PT1H-i\",\n",
    "            dataset_version=\"202411\",\n",
    "            variables=variables,\n",
    "            minimum_longitude=BBOX[\"minimum_longitude\"],\n",
    "            maximum_longitude=BBOX[\"maximum_longitude\"],\n",
    "            minimum_latitude=BBOX[\"minimum_latitude\"],\n",
    "            maximum_latitude=BBOX[\"maximum_latitude\"],\n",
    "\n",
    "    \n",
    "            start_datetime=START_DATE,\n",
    "            end_datetime=END_DATE,\n",
    "            minimum_depth=0.5016462206840515,\n",
    "            maximum_depth=0.5016462206840515,\n",
    "            coordinates_selection_method=\"strict-inside\",\n",
    "            disable_progress_bar=False,\n",
    "            output_filename=output_filename,\n",
    "            delete_file=False)"
   ]
  }
 ],
 "metadata": {
  "kernelspec": {
   "display_name": ".main",
   "language": "python",
   "name": "python3"
  },
  "language_info": {
   "codemirror_mode": {
    "name": "ipython",
    "version": 3
   },
   "file_extension": ".py",
   "mimetype": "text/x-python",
   "name": "python",
   "nbconvert_exporter": "python",
   "pygments_lexer": "ipython3",
   "version": "3.12.3"
  }
 },
 "nbformat": 4,
 "nbformat_minor": 2
}
