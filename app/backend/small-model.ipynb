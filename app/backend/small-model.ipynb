{
  "cells": [
    {
      "cell_type": "markdown",
      "metadata": {
        "id": "view-in-github",
        "colab_type": "text"
      },
      "source": [
        "<a href=\"https://colab.research.google.com/github/RATFIVE/GEOMAR-DeepLearning/blob/main/app/backend/small-model.ipynb\" target=\"_parent\"><img src=\"https://colab.research.google.com/assets/colab-badge.svg\" alt=\"Open In Colab\"/></a>"
      ]
    },
    {
      "cell_type": "code",
      "source": [
        "from google.colab import drive\n",
        "drive.mount('/content/drive')"
      ],
      "metadata": {
        "id": "SD_wFGmmIBUp",
        "outputId": "b8563087-dda3-4a53-b1a3-4f14fea4db43",
        "colab": {
          "base_uri": "https://localhost:8080/",
          "height": 350
        }
      },
      "execution_count": 7,
      "outputs": [
        {
          "output_type": "error",
          "ename": "MessageError",
          "evalue": "Error: credential propagation was unsuccessful",
          "traceback": [
            "\u001b[0;31m---------------------------------------------------------------------------\u001b[0m",
            "\u001b[0;31mMessageError\u001b[0m                              Traceback (most recent call last)",
            "\u001b[0;32m<ipython-input-7-d5df0069828e>\u001b[0m in \u001b[0;36m<cell line: 0>\u001b[0;34m()\u001b[0m\n\u001b[1;32m      1\u001b[0m \u001b[0;32mfrom\u001b[0m \u001b[0mgoogle\u001b[0m\u001b[0;34m.\u001b[0m\u001b[0mcolab\u001b[0m \u001b[0;32mimport\u001b[0m \u001b[0mdrive\u001b[0m\u001b[0;34m\u001b[0m\u001b[0;34m\u001b[0m\u001b[0m\n\u001b[0;32m----> 2\u001b[0;31m \u001b[0mdrive\u001b[0m\u001b[0;34m.\u001b[0m\u001b[0mmount\u001b[0m\u001b[0;34m(\u001b[0m\u001b[0;34m'/content/drive'\u001b[0m\u001b[0;34m)\u001b[0m\u001b[0;34m\u001b[0m\u001b[0;34m\u001b[0m\u001b[0m\n\u001b[0m",
            "\u001b[0;32m/usr/local/lib/python3.11/dist-packages/google/colab/drive.py\u001b[0m in \u001b[0;36mmount\u001b[0;34m(mountpoint, force_remount, timeout_ms, readonly)\u001b[0m\n\u001b[1;32m     98\u001b[0m \u001b[0;32mdef\u001b[0m \u001b[0mmount\u001b[0m\u001b[0;34m(\u001b[0m\u001b[0mmountpoint\u001b[0m\u001b[0;34m,\u001b[0m \u001b[0mforce_remount\u001b[0m\u001b[0;34m=\u001b[0m\u001b[0;32mFalse\u001b[0m\u001b[0;34m,\u001b[0m \u001b[0mtimeout_ms\u001b[0m\u001b[0;34m=\u001b[0m\u001b[0;36m120000\u001b[0m\u001b[0;34m,\u001b[0m \u001b[0mreadonly\u001b[0m\u001b[0;34m=\u001b[0m\u001b[0;32mFalse\u001b[0m\u001b[0;34m)\u001b[0m\u001b[0;34m:\u001b[0m\u001b[0;34m\u001b[0m\u001b[0;34m\u001b[0m\u001b[0m\n\u001b[1;32m     99\u001b[0m   \u001b[0;34m\"\"\"Mount your Google Drive at the specified mountpoint path.\"\"\"\u001b[0m\u001b[0;34m\u001b[0m\u001b[0;34m\u001b[0m\u001b[0m\n\u001b[0;32m--> 100\u001b[0;31m   return _mount(\n\u001b[0m\u001b[1;32m    101\u001b[0m       \u001b[0mmountpoint\u001b[0m\u001b[0;34m,\u001b[0m\u001b[0;34m\u001b[0m\u001b[0;34m\u001b[0m\u001b[0m\n\u001b[1;32m    102\u001b[0m       \u001b[0mforce_remount\u001b[0m\u001b[0;34m=\u001b[0m\u001b[0mforce_remount\u001b[0m\u001b[0;34m,\u001b[0m\u001b[0;34m\u001b[0m\u001b[0;34m\u001b[0m\u001b[0m\n",
            "\u001b[0;32m/usr/local/lib/python3.11/dist-packages/google/colab/drive.py\u001b[0m in \u001b[0;36m_mount\u001b[0;34m(mountpoint, force_remount, timeout_ms, ephemeral, readonly)\u001b[0m\n\u001b[1;32m    135\u001b[0m   )\n\u001b[1;32m    136\u001b[0m   \u001b[0;32mif\u001b[0m \u001b[0mephemeral\u001b[0m\u001b[0;34m:\u001b[0m\u001b[0;34m\u001b[0m\u001b[0;34m\u001b[0m\u001b[0m\n\u001b[0;32m--> 137\u001b[0;31m     _message.blocking_request(\n\u001b[0m\u001b[1;32m    138\u001b[0m         \u001b[0;34m'request_auth'\u001b[0m\u001b[0;34m,\u001b[0m\u001b[0;34m\u001b[0m\u001b[0;34m\u001b[0m\u001b[0m\n\u001b[1;32m    139\u001b[0m         \u001b[0mrequest\u001b[0m\u001b[0;34m=\u001b[0m\u001b[0;34m{\u001b[0m\u001b[0;34m'authType'\u001b[0m\u001b[0;34m:\u001b[0m \u001b[0;34m'dfs_ephemeral'\u001b[0m\u001b[0;34m}\u001b[0m\u001b[0;34m,\u001b[0m\u001b[0;34m\u001b[0m\u001b[0;34m\u001b[0m\u001b[0m\n",
            "\u001b[0;32m/usr/local/lib/python3.11/dist-packages/google/colab/_message.py\u001b[0m in \u001b[0;36mblocking_request\u001b[0;34m(request_type, request, timeout_sec, parent)\u001b[0m\n\u001b[1;32m    174\u001b[0m       \u001b[0mrequest_type\u001b[0m\u001b[0;34m,\u001b[0m \u001b[0mrequest\u001b[0m\u001b[0;34m,\u001b[0m \u001b[0mparent\u001b[0m\u001b[0;34m=\u001b[0m\u001b[0mparent\u001b[0m\u001b[0;34m,\u001b[0m \u001b[0mexpect_reply\u001b[0m\u001b[0;34m=\u001b[0m\u001b[0;32mTrue\u001b[0m\u001b[0;34m\u001b[0m\u001b[0;34m\u001b[0m\u001b[0m\n\u001b[1;32m    175\u001b[0m   )\n\u001b[0;32m--> 176\u001b[0;31m   \u001b[0;32mreturn\u001b[0m \u001b[0mread_reply_from_input\u001b[0m\u001b[0;34m(\u001b[0m\u001b[0mrequest_id\u001b[0m\u001b[0;34m,\u001b[0m \u001b[0mtimeout_sec\u001b[0m\u001b[0;34m)\u001b[0m\u001b[0;34m\u001b[0m\u001b[0;34m\u001b[0m\u001b[0m\n\u001b[0m",
            "\u001b[0;32m/usr/local/lib/python3.11/dist-packages/google/colab/_message.py\u001b[0m in \u001b[0;36mread_reply_from_input\u001b[0;34m(message_id, timeout_sec)\u001b[0m\n\u001b[1;32m    101\u001b[0m     ):\n\u001b[1;32m    102\u001b[0m       \u001b[0;32mif\u001b[0m \u001b[0;34m'error'\u001b[0m \u001b[0;32min\u001b[0m \u001b[0mreply\u001b[0m\u001b[0;34m:\u001b[0m\u001b[0;34m\u001b[0m\u001b[0;34m\u001b[0m\u001b[0m\n\u001b[0;32m--> 103\u001b[0;31m         \u001b[0;32mraise\u001b[0m \u001b[0mMessageError\u001b[0m\u001b[0;34m(\u001b[0m\u001b[0mreply\u001b[0m\u001b[0;34m[\u001b[0m\u001b[0;34m'error'\u001b[0m\u001b[0;34m]\u001b[0m\u001b[0;34m)\u001b[0m\u001b[0;34m\u001b[0m\u001b[0;34m\u001b[0m\u001b[0m\n\u001b[0m\u001b[1;32m    104\u001b[0m       \u001b[0;32mreturn\u001b[0m \u001b[0mreply\u001b[0m\u001b[0;34m.\u001b[0m\u001b[0mget\u001b[0m\u001b[0;34m(\u001b[0m\u001b[0;34m'data'\u001b[0m\u001b[0;34m,\u001b[0m \u001b[0;32mNone\u001b[0m\u001b[0;34m)\u001b[0m\u001b[0;34m\u001b[0m\u001b[0;34m\u001b[0m\u001b[0m\n\u001b[1;32m    105\u001b[0m \u001b[0;34m\u001b[0m\u001b[0m\n",
            "\u001b[0;31mMessageError\u001b[0m: Error: credential propagation was unsuccessful"
          ]
        }
      ]
    },
    {
      "cell_type": "code",
      "source": [
        "!git clone https://github.com/RATFIVE/GEOMAR-DeepLearning.git\n",
        "%cd GEOMAR-DeepLearning/app/backend"
      ],
      "metadata": {
        "id": "kXMQ0DudONdS",
        "outputId": "bfff74ba-71b0-42aa-a849-404691ba884c",
        "colab": {
          "base_uri": "https://localhost:8080/"
        }
      },
      "execution_count": 8,
      "outputs": [
        {
          "output_type": "stream",
          "name": "stdout",
          "text": [
            "Cloning into 'GEOMAR-DeepLearning'...\n",
            "remote: Enumerating objects: 306, done.\u001b[K\n",
            "remote: Counting objects: 100% (306/306), done.\u001b[K\n",
            "remote: Compressing objects: 100% (148/148), done.\u001b[K\n",
            "remote: Total 306 (delta 162), reused 239 (delta 106), pack-reused 0 (from 0)\u001b[K\n",
            "Receiving objects: 100% (306/306), 5.11 MiB | 21.37 MiB/s, done.\n",
            "Resolving deltas: 100% (162/162), done.\n",
            "/content/GEOMAR-DeepLearning/GEOMAR-DeepLearning/app/backend\n"
          ]
        }
      ]
    },
    {
      "cell_type": "code",
      "source": [
        "!pip install copernicusmarine"
      ],
      "metadata": {
        "id": "O0IUHVNmOpgI",
        "outputId": "16053af9-09d0-40ff-d749-1501d2b58dff",
        "colab": {
          "base_uri": "https://localhost:8080/"
        }
      },
      "execution_count": 10,
      "outputs": [
        {
          "output_type": "stream",
          "name": "stdout",
          "text": [
            "Collecting copernicusmarine\n",
            "  Downloading copernicusmarine-2.0.1-py3-none-any.whl.metadata (8.0 kB)\n",
            "Collecting boto3>=1.26 (from copernicusmarine)\n",
            "  Downloading boto3-1.37.1-py3-none-any.whl.metadata (6.6 kB)\n",
            "Requirement already satisfied: click>=8.0.4 in /usr/local/lib/python3.11/dist-packages (from copernicusmarine) (8.1.8)\n",
            "Requirement already satisfied: dask>=2022 in /usr/local/lib/python3.11/dist-packages (from copernicusmarine) (2024.10.0)\n",
            "Requirement already satisfied: h5netcdf<2.0.0,>=1.4.0 in /usr/local/lib/python3.11/dist-packages (from copernicusmarine) (1.5.0)\n",
            "Requirement already satisfied: lxml>=4.9.0 in /usr/local/lib/python3.11/dist-packages (from copernicusmarine) (5.3.1)\n",
            "Requirement already satisfied: numpy>=1.23.0 in /usr/local/lib/python3.11/dist-packages (from copernicusmarine) (1.26.4)\n",
            "Requirement already satisfied: pydantic<3.0.0,>=2.9.1 in /usr/local/lib/python3.11/dist-packages (from copernicusmarine) (2.10.6)\n",
            "Collecting pystac>=1.8.3 (from copernicusmarine)\n",
            "  Downloading pystac-1.12.2-py3-none-any.whl.metadata (4.6 kB)\n",
            "Requirement already satisfied: requests>=2.27.1 in /usr/local/lib/python3.11/dist-packages (from copernicusmarine) (2.32.3)\n",
            "Collecting semver>=3.0.2 (from copernicusmarine)\n",
            "  Downloading semver-3.0.4-py3-none-any.whl.metadata (6.8 kB)\n",
            "Requirement already satisfied: setuptools>=68.2.2 in /usr/local/lib/python3.11/dist-packages (from copernicusmarine) (75.1.0)\n",
            "Requirement already satisfied: tqdm>=4.65.0 in /usr/local/lib/python3.11/dist-packages (from copernicusmarine) (4.67.1)\n",
            "Requirement already satisfied: xarray>=2023.4.0 in /usr/local/lib/python3.11/dist-packages (from copernicusmarine) (2025.1.2)\n",
            "Collecting zarr<3.0.0,>=2.13.3 (from copernicusmarine)\n",
            "  Downloading zarr-2.18.4-py3-none-any.whl.metadata (5.8 kB)\n",
            "Collecting botocore<1.38.0,>=1.37.1 (from boto3>=1.26->copernicusmarine)\n",
            "  Downloading botocore-1.37.1-py3-none-any.whl.metadata (5.7 kB)\n",
            "Collecting jmespath<2.0.0,>=0.7.1 (from boto3>=1.26->copernicusmarine)\n",
            "  Downloading jmespath-1.0.1-py3-none-any.whl.metadata (7.6 kB)\n",
            "Collecting s3transfer<0.12.0,>=0.11.0 (from boto3>=1.26->copernicusmarine)\n",
            "  Downloading s3transfer-0.11.2-py3-none-any.whl.metadata (1.7 kB)\n",
            "Requirement already satisfied: cloudpickle>=3.0.0 in /usr/local/lib/python3.11/dist-packages (from dask>=2022->copernicusmarine) (3.1.1)\n",
            "Requirement already satisfied: fsspec>=2021.09.0 in /usr/local/lib/python3.11/dist-packages (from dask>=2022->copernicusmarine) (2024.10.0)\n",
            "Requirement already satisfied: packaging>=20.0 in /usr/local/lib/python3.11/dist-packages (from dask>=2022->copernicusmarine) (24.2)\n",
            "Requirement already satisfied: partd>=1.4.0 in /usr/local/lib/python3.11/dist-packages (from dask>=2022->copernicusmarine) (1.4.2)\n",
            "Requirement already satisfied: pyyaml>=5.3.1 in /usr/local/lib/python3.11/dist-packages (from dask>=2022->copernicusmarine) (6.0.2)\n",
            "Requirement already satisfied: toolz>=0.10.0 in /usr/local/lib/python3.11/dist-packages (from dask>=2022->copernicusmarine) (0.12.1)\n",
            "Requirement already satisfied: importlib-metadata>=4.13.0 in /usr/local/lib/python3.11/dist-packages (from dask>=2022->copernicusmarine) (8.6.1)\n",
            "Requirement already satisfied: h5py in /usr/local/lib/python3.11/dist-packages (from h5netcdf<2.0.0,>=1.4.0->copernicusmarine) (3.12.1)\n",
            "Requirement already satisfied: annotated-types>=0.6.0 in /usr/local/lib/python3.11/dist-packages (from pydantic<3.0.0,>=2.9.1->copernicusmarine) (0.7.0)\n",
            "Requirement already satisfied: pydantic-core==2.27.2 in /usr/local/lib/python3.11/dist-packages (from pydantic<3.0.0,>=2.9.1->copernicusmarine) (2.27.2)\n",
            "Requirement already satisfied: typing-extensions>=4.12.2 in /usr/local/lib/python3.11/dist-packages (from pydantic<3.0.0,>=2.9.1->copernicusmarine) (4.12.2)\n",
            "Requirement already satisfied: python-dateutil>=2.7.0 in /usr/local/lib/python3.11/dist-packages (from pystac>=1.8.3->copernicusmarine) (2.8.2)\n",
            "Requirement already satisfied: charset-normalizer<4,>=2 in /usr/local/lib/python3.11/dist-packages (from requests>=2.27.1->copernicusmarine) (3.4.1)\n",
            "Requirement already satisfied: idna<4,>=2.5 in /usr/local/lib/python3.11/dist-packages (from requests>=2.27.1->copernicusmarine) (3.10)\n",
            "Requirement already satisfied: urllib3<3,>=1.21.1 in /usr/local/lib/python3.11/dist-packages (from requests>=2.27.1->copernicusmarine) (2.3.0)\n",
            "Requirement already satisfied: certifi>=2017.4.17 in /usr/local/lib/python3.11/dist-packages (from requests>=2.27.1->copernicusmarine) (2025.1.31)\n",
            "Requirement already satisfied: pandas>=2.1 in /usr/local/lib/python3.11/dist-packages (from xarray>=2023.4.0->copernicusmarine) (2.2.2)\n",
            "Collecting asciitree (from zarr<3.0.0,>=2.13.3->copernicusmarine)\n",
            "  Downloading asciitree-0.3.3.tar.gz (4.0 kB)\n",
            "  Preparing metadata (setup.py) ... \u001b[?25l\u001b[?25hdone\n",
            "Collecting fasteners (from zarr<3.0.0,>=2.13.3->copernicusmarine)\n",
            "  Downloading fasteners-0.19-py3-none-any.whl.metadata (4.9 kB)\n",
            "Collecting numcodecs!=0.14.0,!=0.14.1,>=0.10.0 (from zarr<3.0.0,>=2.13.3->copernicusmarine)\n",
            "  Downloading numcodecs-0.15.1-cp311-cp311-manylinux_2_17_x86_64.manylinux2014_x86_64.whl.metadata (2.9 kB)\n",
            "Requirement already satisfied: zipp>=3.20 in /usr/local/lib/python3.11/dist-packages (from importlib-metadata>=4.13.0->dask>=2022->copernicusmarine) (3.21.0)\n",
            "Requirement already satisfied: deprecated in /usr/local/lib/python3.11/dist-packages (from numcodecs!=0.14.0,!=0.14.1,>=0.10.0->zarr<3.0.0,>=2.13.3->copernicusmarine) (1.2.18)\n",
            "Requirement already satisfied: pytz>=2020.1 in /usr/local/lib/python3.11/dist-packages (from pandas>=2.1->xarray>=2023.4.0->copernicusmarine) (2025.1)\n",
            "Requirement already satisfied: tzdata>=2022.7 in /usr/local/lib/python3.11/dist-packages (from pandas>=2.1->xarray>=2023.4.0->copernicusmarine) (2025.1)\n",
            "Requirement already satisfied: locket in /usr/local/lib/python3.11/dist-packages (from partd>=1.4.0->dask>=2022->copernicusmarine) (1.0.0)\n",
            "Requirement already satisfied: six>=1.5 in /usr/local/lib/python3.11/dist-packages (from python-dateutil>=2.7.0->pystac>=1.8.3->copernicusmarine) (1.17.0)\n",
            "Requirement already satisfied: wrapt<2,>=1.10 in /usr/local/lib/python3.11/dist-packages (from deprecated->numcodecs!=0.14.0,!=0.14.1,>=0.10.0->zarr<3.0.0,>=2.13.3->copernicusmarine) (1.17.2)\n",
            "Downloading copernicusmarine-2.0.1-py3-none-any.whl (98 kB)\n",
            "\u001b[2K   \u001b[90m━━━━━━━━━━━━━━━━━━━━━━━━━━━━━━━━━━━━━━━━\u001b[0m \u001b[32m98.9/98.9 kB\u001b[0m \u001b[31m7.8 MB/s\u001b[0m eta \u001b[36m0:00:00\u001b[0m\n",
            "\u001b[?25hDownloading boto3-1.37.1-py3-none-any.whl (139 kB)\n",
            "\u001b[2K   \u001b[90m━━━━━━━━━━━━━━━━━━━━━━━━━━━━━━━━━━━━━━━━\u001b[0m \u001b[32m139.3/139.3 kB\u001b[0m \u001b[31m10.2 MB/s\u001b[0m eta \u001b[36m0:00:00\u001b[0m\n",
            "\u001b[?25hDownloading pystac-1.12.2-py3-none-any.whl (194 kB)\n",
            "\u001b[2K   \u001b[90m━━━━━━━━━━━━━━━━━━━━━━━━━━━━━━━━━━━━━━━━\u001b[0m \u001b[32m194.2/194.2 kB\u001b[0m \u001b[31m10.9 MB/s\u001b[0m eta \u001b[36m0:00:00\u001b[0m\n",
            "\u001b[?25hDownloading semver-3.0.4-py3-none-any.whl (17 kB)\n",
            "Downloading zarr-2.18.4-py3-none-any.whl (210 kB)\n",
            "\u001b[2K   \u001b[90m━━━━━━━━━━━━━━━━━━━━━━━━━━━━━━━━━━━━━━━━\u001b[0m \u001b[32m210.6/210.6 kB\u001b[0m \u001b[31m16.8 MB/s\u001b[0m eta \u001b[36m0:00:00\u001b[0m\n",
            "\u001b[?25hDownloading botocore-1.37.1-py3-none-any.whl (13.4 MB)\n",
            "\u001b[2K   \u001b[90m━━━━━━━━━━━━━━━━━━━━━━━━━━━━━━━━━━━━━━━━\u001b[0m \u001b[32m13.4/13.4 MB\u001b[0m \u001b[31m58.5 MB/s\u001b[0m eta \u001b[36m0:00:00\u001b[0m\n",
            "\u001b[?25hDownloading jmespath-1.0.1-py3-none-any.whl (20 kB)\n",
            "Downloading numcodecs-0.15.1-cp311-cp311-manylinux_2_17_x86_64.manylinux2014_x86_64.whl (8.9 MB)\n",
            "\u001b[2K   \u001b[90m━━━━━━━━━━━━━━━━━━━━━━━━━━━━━━━━━━━━━━━━\u001b[0m \u001b[32m8.9/8.9 MB\u001b[0m \u001b[31m71.7 MB/s\u001b[0m eta \u001b[36m0:00:00\u001b[0m\n",
            "\u001b[?25hDownloading s3transfer-0.11.2-py3-none-any.whl (84 kB)\n",
            "\u001b[2K   \u001b[90m━━━━━━━━━━━━━━━━━━━━━━━━━━━━━━━━━━━━━━━━\u001b[0m \u001b[32m84.2/84.2 kB\u001b[0m \u001b[31m5.7 MB/s\u001b[0m eta \u001b[36m0:00:00\u001b[0m\n",
            "\u001b[?25hDownloading fasteners-0.19-py3-none-any.whl (18 kB)\n",
            "Building wheels for collected packages: asciitree\n",
            "  Building wheel for asciitree (setup.py) ... \u001b[?25l\u001b[?25hdone\n",
            "  Created wheel for asciitree: filename=asciitree-0.3.3-py3-none-any.whl size=5034 sha256=3cc2e126cd58cd1a4692cca8500feeb45503246c4b863083f27c97236c88651a\n",
            "  Stored in directory: /root/.cache/pip/wheels/71/c1/da/23077eb3b87d24d6f3852ed1ed1a1ac2d3c885ad6ebd2b4a07\n",
            "Successfully built asciitree\n",
            "Installing collected packages: asciitree, semver, jmespath, fasteners, pystac, numcodecs, botocore, zarr, s3transfer, boto3, copernicusmarine\n",
            "Successfully installed asciitree-0.3.3 boto3-1.37.1 botocore-1.37.1 copernicusmarine-2.0.1 fasteners-0.19 jmespath-1.0.1 numcodecs-0.15.1 pystac-1.12.2 s3transfer-0.11.2 semver-3.0.4 zarr-2.18.4\n"
          ]
        }
      ]
    },
    {
      "cell_type": "code",
      "source": [
        "!pip freeze > requirements.txt"
      ],
      "metadata": {
        "id": "X6lUEIDmO3gT"
      },
      "execution_count": 11,
      "outputs": []
    },
    {
      "cell_type": "code",
      "execution_count": 9,
      "metadata": {
        "id": "1E2fH33dHzxc",
        "outputId": "aacb394c-0cd7-4a65-82dc-c43d0271abbf",
        "colab": {
          "base_uri": "https://localhost:8080/",
          "height": 582
        }
      },
      "outputs": [
        {
          "output_type": "error",
          "ename": "ModuleNotFoundError",
          "evalue": "No module named 'copernicusmarine'",
          "traceback": [
            "\u001b[0;31m---------------------------------------------------------------------------\u001b[0m",
            "\u001b[0;31mModuleNotFoundError\u001b[0m                       Traceback (most recent call last)",
            "\u001b[0;32m<ipython-input-9-5751b5dc910d>\u001b[0m in \u001b[0;36m<cell line: 0>\u001b[0;34m()\u001b[0m\n\u001b[1;32m     22\u001b[0m \u001b[0;32mfrom\u001b[0m \u001b[0mtorch\u001b[0m\u001b[0;34m.\u001b[0m\u001b[0mutils\u001b[0m\u001b[0;34m.\u001b[0m\u001b[0mtensorboard\u001b[0m \u001b[0;32mimport\u001b[0m \u001b[0mSummaryWriter\u001b[0m\u001b[0;34m\u001b[0m\u001b[0;34m\u001b[0m\u001b[0m\n\u001b[1;32m     23\u001b[0m \u001b[0;32mimport\u001b[0m \u001b[0mdatetime\u001b[0m\u001b[0;34m\u001b[0m\u001b[0;34m\u001b[0m\u001b[0m\n\u001b[0;32m---> 24\u001b[0;31m \u001b[0;32mfrom\u001b[0m \u001b[0mutils\u001b[0m\u001b[0;34m.\u001b[0m\u001b[0mCopernicus\u001b[0m \u001b[0;32mimport\u001b[0m \u001b[0mAdvancedCopernicus\u001b[0m\u001b[0;34m\u001b[0m\u001b[0;34m\u001b[0m\u001b[0m\n\u001b[0m\u001b[1;32m     25\u001b[0m \u001b[0;34m\u001b[0m\u001b[0m\n\u001b[1;32m     26\u001b[0m \u001b[0;34m\u001b[0m\u001b[0m\n",
            "\u001b[0;32m/content/GEOMAR-DeepLearning/GEOMAR-DeepLearning/app/backend/utils/Copernicus.py\u001b[0m in \u001b[0;36m<module>\u001b[0;34m\u001b[0m\n\u001b[0;32m----> 1\u001b[0;31m \u001b[0;32mimport\u001b[0m \u001b[0mcopernicusmarine\u001b[0m\u001b[0;34m\u001b[0m\u001b[0;34m\u001b[0m\u001b[0m\n\u001b[0m\u001b[1;32m      2\u001b[0m \u001b[0;32mimport\u001b[0m \u001b[0mxarray\u001b[0m \u001b[0;32mas\u001b[0m \u001b[0mxr\u001b[0m\u001b[0;34m\u001b[0m\u001b[0;34m\u001b[0m\u001b[0m\n\u001b[1;32m      3\u001b[0m \u001b[0;32mimport\u001b[0m \u001b[0mos\u001b[0m\u001b[0;34m\u001b[0m\u001b[0;34m\u001b[0m\u001b[0m\n\u001b[1;32m      4\u001b[0m \u001b[0;34m\u001b[0m\u001b[0m\n\u001b[1;32m      5\u001b[0m \u001b[0;32mclass\u001b[0m \u001b[0mAdvancedCopernicus\u001b[0m\u001b[0;34m:\u001b[0m\u001b[0;34m\u001b[0m\u001b[0;34m\u001b[0m\u001b[0m\n",
            "\u001b[0;31mModuleNotFoundError\u001b[0m: No module named 'copernicusmarine'",
            "",
            "\u001b[0;31m---------------------------------------------------------------------------\u001b[0;32m\nNOTE: If your import is failing due to a missing package, you can\nmanually install dependencies using either !pip or !apt.\n\nTo view examples of installing some common dependencies, click the\n\"Open Examples\" button below.\n\u001b[0;31m---------------------------------------------------------------------------\u001b[0m\n"
          ],
          "errorDetails": {
            "actions": [
              {
                "action": "open_url",
                "actionText": "Open Examples",
                "url": "/notebooks/snippets/importing_libraries.ipynb"
              }
            ]
          }
        }
      ],
      "source": [
        "# import all necessary libraries\n",
        "import copy\n",
        "import os\n",
        "from PIL import Image\n",
        "from IPython.display import Image\n",
        "import matplotlib.pyplot as plt\n",
        "import matplotlib.cm as cm\n",
        "import numpy as np\n",
        "import numpy as np\n",
        "import pandas as pd\n",
        "import seaborn as sns\n",
        "import torch\n",
        "from sklearn import metrics\n",
        "from sklearn.dummy import DummyClassifier\n",
        "from sklearn.metrics import accuracy_score, f1_score, roc_auc_score\n",
        "from sklearn.model_selection import train_test_split\n",
        "from sklearn.preprocessing import MinMaxScaler\n",
        "from sklearn.svm import SVC\n",
        "from torch import nn\n",
        "from torch.optim.lr_scheduler import ReduceLROnPlateau\n",
        "from torch.utils.data import DataLoader, TensorDataset\n",
        "from torch.utils.tensorboard import SummaryWriter\n",
        "import datetime\n",
        "from utils.Copernicus import AdvancedCopernicus\n",
        "\n",
        "\n",
        "\n",
        "\n",
        "# Display all columns\n",
        "pd.options.display.max_columns = None\n",
        "pd.options.display.max_rows = None"
      ]
    },
    {
      "cell_type": "code",
      "execution_count": null,
      "metadata": {
        "id": "tdbJnAxqHzxe"
      },
      "outputs": [],
      "source": [
        "START_DATE = '2025-02-01'\n",
        "END_DATE = datetime.datetime.now().strftime('%Y-%m-%d %H:%M:%S')\n",
        "OUTPUT_FILENAME = 'output.nc'\n",
        "\n",
        "BBOX= {\n",
        "    # \"min_lon\":10.038345850696412,\n",
        "    # \"max_lon\":10.365962458698567,\n",
        "    # \"min_lat\":54.27381478077755,\n",
        "    # \"max_lat\":54.52976525577923,\n",
        "\n",
        "    \"minimum_longitude\":9.85083510071235,\n",
        "    \"maximum_longitude\":10.926709174713364,\n",
        "    \"minimum_latitude\":54.25206332481298,\n",
        "    \"maximum_latitude\":54.97306793985031,\n",
        "\n",
        "    \"target_min_lon\":10.156,\n",
        "    \"target_max_lon\":10.170,\n",
        "    \"target_min_lat\":54.354,\n",
        "    \"target_max_lat\":54.365\n",
        "    }"
      ]
    },
    {
      "cell_type": "code",
      "execution_count": null,
      "metadata": {
        "id": "_js5vt3WHzxf",
        "outputId": "2f5c0db3-210f-4b06-e00c-fe98098304b4",
        "colab": {
          "referenced_widgets": [
            "f1475352cd204110a3fd7886ba0c79dd",
            "298650a33afe4e44a0c0e512ba8b156b"
          ]
        }
      },
      "outputs": [
        {
          "name": "stderr",
          "output_type": "stream",
          "text": [
            "INFO - 2025-02-26T10:05:09Z - Selected dataset version: \"202411\"\n",
            "INFO - 2025-02-26T10:05:09Z - Selected dataset part: \"default\"\n",
            "INFO - 2025-02-26T10:05:14Z - Starting download. Please wait...\n"
          ]
        },
        {
          "data": {
            "application/vnd.jupyter.widget-view+json": {
              "model_id": "f1475352cd204110a3fd7886ba0c79dd",
              "version_major": 2,
              "version_minor": 0
            },
            "text/plain": [
              "  0%|          | 0/330 [00:00<?, ?it/s]"
            ]
          },
          "metadata": {},
          "output_type": "display_data"
        },
        {
          "name": "stderr",
          "output_type": "stream",
          "text": [
            "INFO - 2025-02-26T10:05:36Z - Successfully downloaded to output.nc\n",
            "INFO - 2025-02-26T10:05:38Z - Selected dataset version: \"202411\"\n",
            "INFO - 2025-02-26T10:05:38Z - Selected dataset part: \"default\"\n",
            "INFO - 2025-02-26T10:05:42Z - Starting download. Please wait...\n"
          ]
        },
        {
          "data": {
            "application/vnd.jupyter.widget-view+json": {
              "model_id": "298650a33afe4e44a0c0e512ba8b156b",
              "version_major": 2,
              "version_minor": 0
            },
            "text/plain": [
              "  0%|          | 0/2 [00:00<?, ?it/s]"
            ]
          },
          "metadata": {},
          "output_type": "display_data"
        },
        {
          "name": "stderr",
          "output_type": "stream",
          "text": [
            "INFO - 2025-02-26T10:05:42Z - Successfully downloaded to output.nc\n"
          ]
        }
      ],
      "source": [
        "copernicus = AdvancedCopernicus()\n",
        "def load_ocean_data(variables=[\"bottomT\", \"mlotst\", \"siconc\", \"sithick\", \"sla\", \"so\", \"sob\", \"thetao\", \"uo\", \"vo\", \"wo\"],\n",
        "                    minimum_longitude=BBOX[\"minimum_longitude\"],\n",
        "                    maximum_longitude=BBOX[\"maximum_longitude\"],\n",
        "                    minimum_latitude=BBOX[\"minimum_latitude\"],\n",
        "                    maximum_latitude=BBOX[\"maximum_latitude\"]):\n",
        "\n",
        "    data = copernicus.get_subset(\n",
        "        dataset_id=\"cmems_mod_bal_phy_anfc_PT1H-i\",\n",
        "        dataset_version=\"202411\",\n",
        "        variables=variables,\n",
        "        minimum_longitude=minimum_longitude,\n",
        "        maximum_longitude=maximum_longitude,\n",
        "        minimum_latitude=minimum_latitude,\n",
        "        maximum_latitude=maximum_latitude,\n",
        "        start_datetime=START_DATE,\n",
        "        end_datetime=END_DATE,\n",
        "        minimum_depth=0.5016462206840515,\n",
        "        maximum_depth=0.5016462206840515,\n",
        "        coordinates_selection_method=\"strict-inside\",\n",
        "        disable_progress_bar=False,\n",
        "        output_filename=OUTPUT_FILENAME)\n",
        "\n",
        "    return data.to_dataframe().reset_index()\n",
        "\n",
        "training_data = load_ocean_data(\n",
        "    variables=[\"bottomT\", \"mlotst\", \"siconc\", \"sithick\", \"sla\", \"so\", \"sob\", \"thetao\", \"uo\", \"vo\", \"wo\"],\n",
        "    minimum_longitude=BBOX[\"minimum_longitude\"],\n",
        "    maximum_longitude=BBOX[\"maximum_longitude\"],\n",
        "    minimum_latitude=BBOX[\"minimum_latitude\"],\n",
        "    maximum_latitude=BBOX[\"maximum_latitude\"]\n",
        ")\n",
        "\n",
        "target_data = load_ocean_data(\n",
        "    variables=[\"sla\"],\n",
        "    minimum_longitude=BBOX[\"target_min_lon\"],\n",
        "    maximum_longitude=BBOX[\"target_max_lon\"],\n",
        "    minimum_latitude=BBOX[\"target_min_lat\"],\n",
        "    maximum_latitude=BBOX[\"target_max_lat\"]\n",
        ")"
      ]
    },
    {
      "cell_type": "markdown",
      "metadata": {
        "id": "PgBOkK4JHzxg"
      },
      "source": [
        "## IDA"
      ]
    },
    {
      "cell_type": "code",
      "execution_count": null,
      "metadata": {
        "id": "BwqLdP3DHzxh"
      },
      "outputs": [],
      "source": [
        "def process_df(df):\n",
        "    df = df.dropna(axis=1, how=\"all\")\n",
        "    df = df.dropna(axis=0, how=\"any\")\n",
        "    df = df[[\"time\"] + [col for col in df.columns if col != \"time\"]]\n",
        "    float_cols = df.select_dtypes(include=[\"float\"]).columns\n",
        "    df[float_cols] = df[float_cols].astype(np.float32)\n",
        "    df[\"time\"] = pd.to_datetime(df[\"time\"]).dt.tz_localize(None).dt.round(\"h\")\n",
        "    df = df.reset_index(drop=True)\n",
        "    return df"
      ]
    },
    {
      "cell_type": "code",
      "execution_count": null,
      "metadata": {
        "id": "3uD2ba4fHzxi",
        "outputId": "1b40eb3c-cfda-40cb-9230-97cd25aa76b4"
      },
      "outputs": [
        {
          "data": {
            "text/html": [
              "<div>\n",
              "<style scoped>\n",
              "    .dataframe tbody tr th:only-of-type {\n",
              "        vertical-align: middle;\n",
              "    }\n",
              "\n",
              "    .dataframe tbody tr th {\n",
              "        vertical-align: top;\n",
              "    }\n",
              "\n",
              "    .dataframe thead th {\n",
              "        text-align: right;\n",
              "    }\n",
              "</style>\n",
              "<table border=\"1\" class=\"dataframe\">\n",
              "  <thead>\n",
              "    <tr style=\"text-align: right;\">\n",
              "      <th></th>\n",
              "      <th>time</th>\n",
              "      <th>depth</th>\n",
              "      <th>latitude</th>\n",
              "      <th>longitude</th>\n",
              "      <th>bottomT</th>\n",
              "      <th>mlotst</th>\n",
              "      <th>siconc</th>\n",
              "      <th>sithick</th>\n",
              "      <th>sla</th>\n",
              "      <th>so</th>\n",
              "      <th>sob</th>\n",
              "      <th>thetao</th>\n",
              "      <th>uo</th>\n",
              "      <th>vo</th>\n",
              "      <th>wo</th>\n",
              "    </tr>\n",
              "  </thead>\n",
              "  <tbody>\n",
              "    <tr>\n",
              "      <th>0</th>\n",
              "      <td>2025-02-01 00:00:00</td>\n",
              "      <td>0.501646</td>\n",
              "      <td>54.308277</td>\n",
              "      <td>10.708242</td>\n",
              "      <td>3.949874</td>\n",
              "      <td>11.431097</td>\n",
              "      <td>0.0</td>\n",
              "      <td>0.0</td>\n",
              "      <td>-0.094585</td>\n",
              "      <td>20.076197</td>\n",
              "      <td>20.076197</td>\n",
              "      <td>3.949874</td>\n",
              "      <td>0.0</td>\n",
              "      <td>-0.003346</td>\n",
              "      <td>-1.130791e-06</td>\n",
              "    </tr>\n",
              "    <tr>\n",
              "      <th>1</th>\n",
              "      <td>2025-02-01 01:00:00</td>\n",
              "      <td>0.501646</td>\n",
              "      <td>54.308277</td>\n",
              "      <td>10.708242</td>\n",
              "      <td>3.947661</td>\n",
              "      <td>11.449051</td>\n",
              "      <td>0.0</td>\n",
              "      <td>0.0</td>\n",
              "      <td>-0.076631</td>\n",
              "      <td>20.077806</td>\n",
              "      <td>20.077806</td>\n",
              "      <td>3.947661</td>\n",
              "      <td>0.0</td>\n",
              "      <td>-0.004077</td>\n",
              "      <td>-7.328313e-07</td>\n",
              "    </tr>\n",
              "    <tr>\n",
              "      <th>2</th>\n",
              "      <td>2025-02-01 02:00:00</td>\n",
              "      <td>0.501646</td>\n",
              "      <td>54.308277</td>\n",
              "      <td>10.708242</td>\n",
              "      <td>3.945188</td>\n",
              "      <td>11.472710</td>\n",
              "      <td>0.0</td>\n",
              "      <td>0.0</td>\n",
              "      <td>-0.052973</td>\n",
              "      <td>20.080185</td>\n",
              "      <td>20.080185</td>\n",
              "      <td>3.945187</td>\n",
              "      <td>0.0</td>\n",
              "      <td>-0.007542</td>\n",
              "      <td>-3.588450e-07</td>\n",
              "    </tr>\n",
              "  </tbody>\n",
              "</table>\n",
              "</div>"
            ],
            "text/plain": [
              "                 time     depth   latitude  longitude   bottomT     mlotst  \\\n",
              "0 2025-02-01 00:00:00  0.501646  54.308277  10.708242  3.949874  11.431097   \n",
              "1 2025-02-01 01:00:00  0.501646  54.308277  10.708242  3.947661  11.449051   \n",
              "2 2025-02-01 02:00:00  0.501646  54.308277  10.708242  3.945188  11.472710   \n",
              "\n",
              "   siconc  sithick       sla         so        sob    thetao   uo        vo  \\\n",
              "0     0.0      0.0 -0.094585  20.076197  20.076197  3.949874  0.0 -0.003346   \n",
              "1     0.0      0.0 -0.076631  20.077806  20.077806  3.947661  0.0 -0.004077   \n",
              "2     0.0      0.0 -0.052973  20.080185  20.080185  3.945187  0.0 -0.007542   \n",
              "\n",
              "             wo  \n",
              "0 -1.130791e-06  \n",
              "1 -7.328313e-07  \n",
              "2 -3.588450e-07  "
            ]
          },
          "metadata": {},
          "output_type": "display_data"
        },
        {
          "name": "stdout",
          "output_type": "stream",
          "text": [
            "<class 'pandas.core.frame.DataFrame'>\n",
            "RangeIndex: 654228 entries, 0 to 654227\n",
            "Data columns (total 15 columns):\n",
            " #   Column     Non-Null Count   Dtype         \n",
            "---  ------     --------------   -----         \n",
            " 0   time       654228 non-null  datetime64[ns]\n",
            " 1   depth      654228 non-null  float32       \n",
            " 2   latitude   654228 non-null  float32       \n",
            " 3   longitude  654228 non-null  float32       \n",
            " 4   bottomT    654228 non-null  float32       \n",
            " 5   mlotst     654228 non-null  float32       \n",
            " 6   siconc     654228 non-null  float32       \n",
            " 7   sithick    654228 non-null  float32       \n",
            " 8   sla        654228 non-null  float32       \n",
            " 9   so         654228 non-null  float32       \n",
            " 10  sob        654228 non-null  float32       \n",
            " 11  thetao     654228 non-null  float32       \n",
            " 12  uo         654228 non-null  float32       \n",
            " 13  vo         654228 non-null  float32       \n",
            " 14  wo         654228 non-null  float32       \n",
            "dtypes: datetime64[ns](1), float32(14)\n",
            "memory usage: 39.9 MB\n"
          ]
        },
        {
          "data": {
            "text/plain": [
              "None"
            ]
          },
          "metadata": {},
          "output_type": "display_data"
        }
      ],
      "source": [
        "training_data = process_df(training_data)\n",
        "display(training_data.head(3))\n",
        "display(training_data.info())"
      ]
    },
    {
      "cell_type": "code",
      "execution_count": null,
      "metadata": {
        "id": "IA7JW-X1Hzxi",
        "outputId": "39829dd4-0b4c-4c9b-d4ea-3d60765f6fa6"
      },
      "outputs": [
        {
          "data": {
            "text/html": [
              "<div>\n",
              "<style scoped>\n",
              "    .dataframe tbody tr th:only-of-type {\n",
              "        vertical-align: middle;\n",
              "    }\n",
              "\n",
              "    .dataframe tbody tr th {\n",
              "        vertical-align: top;\n",
              "    }\n",
              "\n",
              "    .dataframe thead th {\n",
              "        text-align: right;\n",
              "    }\n",
              "</style>\n",
              "<table border=\"1\" class=\"dataframe\">\n",
              "  <thead>\n",
              "    <tr style=\"text-align: right;\">\n",
              "      <th></th>\n",
              "      <th>time</th>\n",
              "      <th>latitude</th>\n",
              "      <th>longitude</th>\n",
              "      <th>sla</th>\n",
              "    </tr>\n",
              "  </thead>\n",
              "  <tbody>\n",
              "    <tr>\n",
              "      <th>0</th>\n",
              "      <td>2025-02-01 00:00:00</td>\n",
              "      <td>54.358276</td>\n",
              "      <td>10.152689</td>\n",
              "      <td>-0.120450</td>\n",
              "    </tr>\n",
              "    <tr>\n",
              "      <th>1</th>\n",
              "      <td>2025-02-01 01:00:00</td>\n",
              "      <td>54.358276</td>\n",
              "      <td>10.152689</td>\n",
              "      <td>-0.091966</td>\n",
              "    </tr>\n",
              "    <tr>\n",
              "      <th>2</th>\n",
              "      <td>2025-02-01 02:00:00</td>\n",
              "      <td>54.358276</td>\n",
              "      <td>10.152689</td>\n",
              "      <td>-0.065222</td>\n",
              "    </tr>\n",
              "  </tbody>\n",
              "</table>\n",
              "</div>"
            ],
            "text/plain": [
              "                 time   latitude  longitude       sla\n",
              "0 2025-02-01 00:00:00  54.358276  10.152689 -0.120450\n",
              "1 2025-02-01 01:00:00  54.358276  10.152689 -0.091966\n",
              "2 2025-02-01 02:00:00  54.358276  10.152689 -0.065222"
            ]
          },
          "metadata": {},
          "output_type": "display_data"
        },
        {
          "name": "stdout",
          "output_type": "stream",
          "text": [
            "<class 'pandas.core.frame.DataFrame'>\n",
            "RangeIndex: 612 entries, 0 to 611\n",
            "Data columns (total 4 columns):\n",
            " #   Column     Non-Null Count  Dtype         \n",
            "---  ------     --------------  -----         \n",
            " 0   time       612 non-null    datetime64[ns]\n",
            " 1   latitude   612 non-null    float32       \n",
            " 2   longitude  612 non-null    float32       \n",
            " 3   sla        612 non-null    float32       \n",
            "dtypes: datetime64[ns](1), float32(3)\n",
            "memory usage: 12.1 KB\n"
          ]
        },
        {
          "data": {
            "text/plain": [
              "None"
            ]
          },
          "metadata": {},
          "output_type": "display_data"
        },
        {
          "data": {
            "text/plain": [
              "array([54.358276], dtype=float32)"
            ]
          },
          "metadata": {},
          "output_type": "display_data"
        }
      ],
      "source": [
        "target_data = process_df(target_data)\n",
        "target_data.groupby(by=[\"time\", 'latitude', 'longitude']).mean()\n",
        "display(target_data.head(3))\n",
        "display(target_data.info())\n",
        "display(target_data['latitude'].unique())"
      ]
    },
    {
      "cell_type": "code",
      "execution_count": null,
      "metadata": {
        "id": "o5pbSEgVHzxi",
        "outputId": "2077fcd7-fb72-47b1-a89d-c0f7791e1b33"
      },
      "outputs": [
        {
          "data": {
            "text/html": [
              "<div>\n",
              "<style scoped>\n",
              "    .dataframe tbody tr th:only-of-type {\n",
              "        vertical-align: middle;\n",
              "    }\n",
              "\n",
              "    .dataframe tbody tr th {\n",
              "        vertical-align: top;\n",
              "    }\n",
              "\n",
              "    .dataframe thead th {\n",
              "        text-align: right;\n",
              "    }\n",
              "</style>\n",
              "<table border=\"1\" class=\"dataframe\">\n",
              "  <thead>\n",
              "    <tr style=\"text-align: right;\">\n",
              "      <th></th>\n",
              "      <th>time</th>\n",
              "      <th>depth</th>\n",
              "      <th>latitude</th>\n",
              "      <th>longitude</th>\n",
              "      <th>bottomT</th>\n",
              "      <th>mlotst</th>\n",
              "      <th>siconc</th>\n",
              "      <th>sithick</th>\n",
              "      <th>sla</th>\n",
              "      <th>so</th>\n",
              "      <th>sob</th>\n",
              "      <th>thetao</th>\n",
              "      <th>uo</th>\n",
              "      <th>vo</th>\n",
              "      <th>wo</th>\n",
              "      <th>latitude_target</th>\n",
              "      <th>longitude_target</th>\n",
              "      <th>sla_target</th>\n",
              "    </tr>\n",
              "  </thead>\n",
              "  <tbody>\n",
              "    <tr>\n",
              "      <th>0</th>\n",
              "      <td>2025-02-01 00:00:00</td>\n",
              "      <td>0.501646</td>\n",
              "      <td>54.308277</td>\n",
              "      <td>10.708242</td>\n",
              "      <td>3.949874</td>\n",
              "      <td>11.431097</td>\n",
              "      <td>0.0</td>\n",
              "      <td>0.0</td>\n",
              "      <td>-0.094585</td>\n",
              "      <td>20.076197</td>\n",
              "      <td>20.076197</td>\n",
              "      <td>3.949874</td>\n",
              "      <td>0.0</td>\n",
              "      <td>-0.003346</td>\n",
              "      <td>-1.130791e-06</td>\n",
              "      <td>54.358276</td>\n",
              "      <td>10.152689</td>\n",
              "      <td>-0.120450</td>\n",
              "    </tr>\n",
              "    <tr>\n",
              "      <th>1</th>\n",
              "      <td>2025-02-01 01:00:00</td>\n",
              "      <td>0.501646</td>\n",
              "      <td>54.308277</td>\n",
              "      <td>10.708242</td>\n",
              "      <td>3.947661</td>\n",
              "      <td>11.449051</td>\n",
              "      <td>0.0</td>\n",
              "      <td>0.0</td>\n",
              "      <td>-0.076631</td>\n",
              "      <td>20.077806</td>\n",
              "      <td>20.077806</td>\n",
              "      <td>3.947661</td>\n",
              "      <td>0.0</td>\n",
              "      <td>-0.004077</td>\n",
              "      <td>-7.328313e-07</td>\n",
              "      <td>54.358276</td>\n",
              "      <td>10.152689</td>\n",
              "      <td>-0.091966</td>\n",
              "    </tr>\n",
              "    <tr>\n",
              "      <th>2</th>\n",
              "      <td>2025-02-01 02:00:00</td>\n",
              "      <td>0.501646</td>\n",
              "      <td>54.308277</td>\n",
              "      <td>10.708242</td>\n",
              "      <td>3.945188</td>\n",
              "      <td>11.472710</td>\n",
              "      <td>0.0</td>\n",
              "      <td>0.0</td>\n",
              "      <td>-0.052973</td>\n",
              "      <td>20.080185</td>\n",
              "      <td>20.080185</td>\n",
              "      <td>3.945187</td>\n",
              "      <td>0.0</td>\n",
              "      <td>-0.007542</td>\n",
              "      <td>-3.588450e-07</td>\n",
              "      <td>54.358276</td>\n",
              "      <td>10.152689</td>\n",
              "      <td>-0.065222</td>\n",
              "    </tr>\n",
              "  </tbody>\n",
              "</table>\n",
              "</div>"
            ],
            "text/plain": [
              "                 time     depth   latitude  longitude   bottomT     mlotst  \\\n",
              "0 2025-02-01 00:00:00  0.501646  54.308277  10.708242  3.949874  11.431097   \n",
              "1 2025-02-01 01:00:00  0.501646  54.308277  10.708242  3.947661  11.449051   \n",
              "2 2025-02-01 02:00:00  0.501646  54.308277  10.708242  3.945188  11.472710   \n",
              "\n",
              "   siconc  sithick       sla         so        sob    thetao   uo        vo  \\\n",
              "0     0.0      0.0 -0.094585  20.076197  20.076197  3.949874  0.0 -0.003346   \n",
              "1     0.0      0.0 -0.076631  20.077806  20.077806  3.947661  0.0 -0.004077   \n",
              "2     0.0      0.0 -0.052973  20.080185  20.080185  3.945187  0.0 -0.007542   \n",
              "\n",
              "             wo  latitude_target  longitude_target  sla_target  \n",
              "0 -1.130791e-06        54.358276         10.152689   -0.120450  \n",
              "1 -7.328313e-07        54.358276         10.152689   -0.091966  \n",
              "2 -3.588450e-07        54.358276         10.152689   -0.065222  "
            ]
          },
          "metadata": {},
          "output_type": "display_data"
        },
        {
          "name": "stdout",
          "output_type": "stream",
          "text": [
            "<class 'pandas.core.frame.DataFrame'>\n",
            "RangeIndex: 654228 entries, 0 to 654227\n",
            "Data columns (total 18 columns):\n",
            " #   Column            Non-Null Count   Dtype         \n",
            "---  ------            --------------   -----         \n",
            " 0   time              654228 non-null  datetime64[ns]\n",
            " 1   depth             654228 non-null  float32       \n",
            " 2   latitude          654228 non-null  float32       \n",
            " 3   longitude         654228 non-null  float32       \n",
            " 4   bottomT           654228 non-null  float32       \n",
            " 5   mlotst            654228 non-null  float32       \n",
            " 6   siconc            654228 non-null  float32       \n",
            " 7   sithick           654228 non-null  float32       \n",
            " 8   sla               654228 non-null  float32       \n",
            " 9   so                654228 non-null  float32       \n",
            " 10  sob               654228 non-null  float32       \n",
            " 11  thetao            654228 non-null  float32       \n",
            " 12  uo                654228 non-null  float32       \n",
            " 13  vo                654228 non-null  float32       \n",
            " 14  wo                654228 non-null  float32       \n",
            " 15  latitude_target   654228 non-null  float32       \n",
            " 16  longitude_target  654228 non-null  float32       \n",
            " 17  sla_target        654228 non-null  float32       \n",
            "dtypes: datetime64[ns](1), float32(17)\n",
            "memory usage: 47.4 MB\n"
          ]
        },
        {
          "data": {
            "text/plain": [
              "None"
            ]
          },
          "metadata": {},
          "output_type": "display_data"
        },
        {
          "data": {
            "text/html": [
              "<div>\n",
              "<style scoped>\n",
              "    .dataframe tbody tr th:only-of-type {\n",
              "        vertical-align: middle;\n",
              "    }\n",
              "\n",
              "    .dataframe tbody tr th {\n",
              "        vertical-align: top;\n",
              "    }\n",
              "\n",
              "    .dataframe thead th {\n",
              "        text-align: right;\n",
              "    }\n",
              "</style>\n",
              "<table border=\"1\" class=\"dataframe\">\n",
              "  <thead>\n",
              "    <tr style=\"text-align: right;\">\n",
              "      <th></th>\n",
              "      <th>time</th>\n",
              "      <th>depth</th>\n",
              "      <th>latitude</th>\n",
              "      <th>longitude</th>\n",
              "      <th>bottomT</th>\n",
              "      <th>mlotst</th>\n",
              "      <th>siconc</th>\n",
              "      <th>sithick</th>\n",
              "      <th>sla</th>\n",
              "      <th>so</th>\n",
              "      <th>sob</th>\n",
              "      <th>thetao</th>\n",
              "      <th>uo</th>\n",
              "      <th>vo</th>\n",
              "      <th>wo</th>\n",
              "      <th>latitude_target</th>\n",
              "      <th>longitude_target</th>\n",
              "      <th>sla_target</th>\n",
              "    </tr>\n",
              "  </thead>\n",
              "  <tbody>\n",
              "    <tr>\n",
              "      <th>count</th>\n",
              "      <td>654228</td>\n",
              "      <td>654228.000000</td>\n",
              "      <td>654228.000000</td>\n",
              "      <td>654228.000000</td>\n",
              "      <td>654228.000000</td>\n",
              "      <td>654228.000000</td>\n",
              "      <td>6.542280e+05</td>\n",
              "      <td>6.542280e+05</td>\n",
              "      <td>654228.000000</td>\n",
              "      <td>654228.000000</td>\n",
              "      <td>654228.000000</td>\n",
              "      <td>654228.000000</td>\n",
              "      <td>654228.000000</td>\n",
              "      <td>654228.000000</td>\n",
              "      <td>6.542280e+05</td>\n",
              "      <td>654228.000000</td>\n",
              "      <td>654228.000000</td>\n",
              "      <td>654228.000000</td>\n",
              "    </tr>\n",
              "    <tr>\n",
              "      <th>mean</th>\n",
              "      <td>2025-02-13 17:29:59.999999488</td>\n",
              "      <td>0.501646</td>\n",
              "      <td>54.660526</td>\n",
              "      <td>10.454244</td>\n",
              "      <td>3.945716</td>\n",
              "      <td>10.478156</td>\n",
              "      <td>3.857553e-08</td>\n",
              "      <td>3.301091e-07</td>\n",
              "      <td>-0.212824</td>\n",
              "      <td>15.357598</td>\n",
              "      <td>19.258955</td>\n",
              "      <td>3.309731</td>\n",
              "      <td>-0.030445</td>\n",
              "      <td>0.058961</td>\n",
              "      <td>-3.121308e-07</td>\n",
              "      <td>54.358334</td>\n",
              "      <td>10.152695</td>\n",
              "      <td>-0.218330</td>\n",
              "    </tr>\n",
              "    <tr>\n",
              "      <th>min</th>\n",
              "      <td>2025-02-01 00:00:00</td>\n",
              "      <td>0.501646</td>\n",
              "      <td>54.308277</td>\n",
              "      <td>9.874912</td>\n",
              "      <td>-0.591978</td>\n",
              "      <td>2.274687</td>\n",
              "      <td>0.000000e+00</td>\n",
              "      <td>0.000000e+00</td>\n",
              "      <td>-0.921992</td>\n",
              "      <td>8.571222</td>\n",
              "      <td>8.571222</td>\n",
              "      <td>-0.799094</td>\n",
              "      <td>-0.898166</td>\n",
              "      <td>-1.230932</td>\n",
              "      <td>-2.172987e-04</td>\n",
              "      <td>54.358276</td>\n",
              "      <td>10.152689</td>\n",
              "      <td>-0.816700</td>\n",
              "    </tr>\n",
              "    <tr>\n",
              "      <th>25%</th>\n",
              "      <td>2025-02-07 08:45:00</td>\n",
              "      <td>0.501646</td>\n",
              "      <td>54.524940</td>\n",
              "      <td>10.208244</td>\n",
              "      <td>3.520014</td>\n",
              "      <td>9.892264</td>\n",
              "      <td>0.000000e+00</td>\n",
              "      <td>0.000000e+00</td>\n",
              "      <td>-0.381543</td>\n",
              "      <td>13.245098</td>\n",
              "      <td>18.903009</td>\n",
              "      <td>2.928122</td>\n",
              "      <td>-0.080718</td>\n",
              "      <td>-0.020173</td>\n",
              "      <td>2.117468e-09</td>\n",
              "      <td>54.358276</td>\n",
              "      <td>10.152689</td>\n",
              "      <td>-0.408307</td>\n",
              "    </tr>\n",
              "    <tr>\n",
              "      <th>50%</th>\n",
              "      <td>2025-02-13 17:30:00</td>\n",
              "      <td>0.501646</td>\n",
              "      <td>54.658272</td>\n",
              "      <td>10.458243</td>\n",
              "      <td>3.900797</td>\n",
              "      <td>10.019227</td>\n",
              "      <td>0.000000e+00</td>\n",
              "      <td>0.000000e+00</td>\n",
              "      <td>-0.198689</td>\n",
              "      <td>15.670680</td>\n",
              "      <td>19.688978</td>\n",
              "      <td>3.370786</td>\n",
              "      <td>-0.016336</td>\n",
              "      <td>0.024034</td>\n",
              "      <td>3.911743e-07</td>\n",
              "      <td>54.358276</td>\n",
              "      <td>10.152689</td>\n",
              "      <td>-0.203597</td>\n",
              "    </tr>\n",
              "    <tr>\n",
              "      <th>75%</th>\n",
              "      <td>2025-02-20 02:15:00</td>\n",
              "      <td>0.501646</td>\n",
              "      <td>54.791603</td>\n",
              "      <td>10.680465</td>\n",
              "      <td>4.450780</td>\n",
              "      <td>10.158411</td>\n",
              "      <td>0.000000e+00</td>\n",
              "      <td>0.000000e+00</td>\n",
              "      <td>-0.040329</td>\n",
              "      <td>17.822624</td>\n",
              "      <td>20.384881</td>\n",
              "      <td>3.773287</td>\n",
              "      <td>0.028923</td>\n",
              "      <td>0.090586</td>\n",
              "      <td>1.470732e-06</td>\n",
              "      <td>54.358276</td>\n",
              "      <td>10.152689</td>\n",
              "      <td>-0.030002</td>\n",
              "    </tr>\n",
              "    <tr>\n",
              "      <th>max</th>\n",
              "      <td>2025-02-26 11:00:00</td>\n",
              "      <td>0.501646</td>\n",
              "      <td>54.958267</td>\n",
              "      <td>10.902686</td>\n",
              "      <td>7.357439</td>\n",
              "      <td>33.155102</td>\n",
              "      <td>1.039391e-02</td>\n",
              "      <td>9.997947e-02</td>\n",
              "      <td>0.236108</td>\n",
              "      <td>20.839090</td>\n",
              "      <td>23.257256</td>\n",
              "      <td>4.939826</td>\n",
              "      <td>0.761376</td>\n",
              "      <td>1.805505</td>\n",
              "      <td>5.789600e-05</td>\n",
              "      <td>54.358276</td>\n",
              "      <td>10.152689</td>\n",
              "      <td>0.213716</td>\n",
              "    </tr>\n",
              "    <tr>\n",
              "      <th>std</th>\n",
              "      <td>NaN</td>\n",
              "      <td>0.000000</td>\n",
              "      <td>0.166514</td>\n",
              "      <td>0.276905</td>\n",
              "      <td>0.732617</td>\n",
              "      <td>2.844389</td>\n",
              "      <td>1.898714e-05</td>\n",
              "      <td>1.757113e-04</td>\n",
              "      <td>0.212262</td>\n",
              "      <td>2.953536</td>\n",
              "      <td>2.154766</td>\n",
              "      <td>0.640052</td>\n",
              "      <td>0.119572</td>\n",
              "      <td>0.178992</td>\n",
              "      <td>9.967143e-06</td>\n",
              "      <td>0.000000</td>\n",
              "      <td>0.000000</td>\n",
              "      <td>0.228352</td>\n",
              "    </tr>\n",
              "  </tbody>\n",
              "</table>\n",
              "</div>"
            ],
            "text/plain": [
              "                                time          depth       latitude  \\\n",
              "count                         654228  654228.000000  654228.000000   \n",
              "mean   2025-02-13 17:29:59.999999488       0.501646      54.660526   \n",
              "min              2025-02-01 00:00:00       0.501646      54.308277   \n",
              "25%              2025-02-07 08:45:00       0.501646      54.524940   \n",
              "50%              2025-02-13 17:30:00       0.501646      54.658272   \n",
              "75%              2025-02-20 02:15:00       0.501646      54.791603   \n",
              "max              2025-02-26 11:00:00       0.501646      54.958267   \n",
              "std                              NaN       0.000000       0.166514   \n",
              "\n",
              "           longitude        bottomT         mlotst        siconc  \\\n",
              "count  654228.000000  654228.000000  654228.000000  6.542280e+05   \n",
              "mean       10.454244       3.945716      10.478156  3.857553e-08   \n",
              "min         9.874912      -0.591978       2.274687  0.000000e+00   \n",
              "25%        10.208244       3.520014       9.892264  0.000000e+00   \n",
              "50%        10.458243       3.900797      10.019227  0.000000e+00   \n",
              "75%        10.680465       4.450780      10.158411  0.000000e+00   \n",
              "max        10.902686       7.357439      33.155102  1.039391e-02   \n",
              "std         0.276905       0.732617       2.844389  1.898714e-05   \n",
              "\n",
              "            sithick            sla             so            sob  \\\n",
              "count  6.542280e+05  654228.000000  654228.000000  654228.000000   \n",
              "mean   3.301091e-07      -0.212824      15.357598      19.258955   \n",
              "min    0.000000e+00      -0.921992       8.571222       8.571222   \n",
              "25%    0.000000e+00      -0.381543      13.245098      18.903009   \n",
              "50%    0.000000e+00      -0.198689      15.670680      19.688978   \n",
              "75%    0.000000e+00      -0.040329      17.822624      20.384881   \n",
              "max    9.997947e-02       0.236108      20.839090      23.257256   \n",
              "std    1.757113e-04       0.212262       2.953536       2.154766   \n",
              "\n",
              "              thetao             uo             vo            wo  \\\n",
              "count  654228.000000  654228.000000  654228.000000  6.542280e+05   \n",
              "mean        3.309731      -0.030445       0.058961 -3.121308e-07   \n",
              "min        -0.799094      -0.898166      -1.230932 -2.172987e-04   \n",
              "25%         2.928122      -0.080718      -0.020173  2.117468e-09   \n",
              "50%         3.370786      -0.016336       0.024034  3.911743e-07   \n",
              "75%         3.773287       0.028923       0.090586  1.470732e-06   \n",
              "max         4.939826       0.761376       1.805505  5.789600e-05   \n",
              "std         0.640052       0.119572       0.178992  9.967143e-06   \n",
              "\n",
              "       latitude_target  longitude_target     sla_target  \n",
              "count    654228.000000     654228.000000  654228.000000  \n",
              "mean         54.358334         10.152695      -0.218330  \n",
              "min          54.358276         10.152689      -0.816700  \n",
              "25%          54.358276         10.152689      -0.408307  \n",
              "50%          54.358276         10.152689      -0.203597  \n",
              "75%          54.358276         10.152689      -0.030002  \n",
              "max          54.358276         10.152689       0.213716  \n",
              "std           0.000000          0.000000       0.228352  "
            ]
          },
          "metadata": {},
          "output_type": "display_data"
        }
      ],
      "source": [
        "df_merged = pd.merge(training_data, target_data, on=\"time\", how=\"inner\", suffixes=(\"\", \"_target\"))\n",
        "display(df_merged.head(3))\n",
        "display(df_merged.info())\n",
        "display(df_merged.describe())"
      ]
    },
    {
      "cell_type": "markdown",
      "metadata": {
        "id": "2zcCc2elHzxj"
      },
      "source": [
        "## EDA"
      ]
    },
    {
      "cell_type": "code",
      "execution_count": null,
      "metadata": {
        "id": "u2CgiHJuHzxj",
        "outputId": "38207dc2-2889-43e8-e768-e98d9ffbe414"
      },
      "outputs": [
        {
          "data": {
            "image/png": "[encoded data removed]",
            "text/plain": [
              "<Figure size 1000x500 with 1 Axes>"
            ]
          },
          "metadata": {},
          "output_type": "display_data"
        }
      ],
      "source": [
        "import matplotlib.pyplot as plt\n",
        "import seaborn as sns\n",
        "\n",
        "# Set style for Seaborn\n",
        "sns.set_style(\"whitegrid\")\n",
        "\n",
        "# Erstellen der Plot-Figur\n",
        "plt.figure(figsize=(10, 5))\n",
        "\n",
        "# Plot der SLA-Daten\n",
        "sns.lineplot(x=df_merged[\"time\"], y=df_merged[\"sla\"], label=\"SLA\")\n",
        "\n",
        "# Plot der SLA Target-Daten\n",
        "sns.lineplot(x=df_merged[\"time\"], y=df_merged[\"sla_target\"], label=\"SLA Target\")\n",
        "\n",
        "# Achsen und Titel setzen\n",
        "plt.title(\"Sea surface height above sea levelsla [m]\")\n",
        "plt.xlabel(\"Time\")\n",
        "plt.ylabel(\"Sea Level Anomaly (SLA)\")\n",
        "\n",
        "# Legende anzeigen\n",
        "plt.legend()\n",
        "\n",
        "# Diagramm anzeigen\n",
        "plt.show()\n"
      ]
    },
    {
      "cell_type": "markdown",
      "metadata": {
        "id": "q8som2gfHzxj"
      },
      "source": [
        "# Stationary"
      ]
    },
    {
      "cell_type": "code",
      "execution_count": null,
      "metadata": {
        "id": "BnADlihRHzxk",
        "outputId": "743454a0-0042-4809-b788-6fe6daccc398"
      },
      "outputs": [
        {
          "data": {
            "image/png": "[encoded data removed]",
            "text/plain": [
              "<Figure size 640x480 with 1 Axes>"
            ]
          },
          "metadata": {},
          "output_type": "display_data"
        }
      ],
      "source": [
        "df_target = df_merged[\"sla_target\"]\n",
        "\n",
        "rolling_mean = df_target.rolling(window = 7).mean(numeric_only=True)\n",
        "rolling_std = df_target.rolling(window = 7).std(numeric_only=True)\n",
        "plt.plot(df_target, color = 'blue', label = 'Original')\n",
        "plt.plot(rolling_mean, color = 'red', label = 'Rolling Mean')\n",
        "plt.plot(rolling_std, color = 'black', label = 'Rolling Std')\n",
        "plt.legend(loc = 'best')\n",
        "plt.title('Rolling Mean & Rolling Standard Deviation')\n",
        "plt.show()"
      ]
    },
    {
      "cell_type": "code",
      "execution_count": null,
      "metadata": {
        "id": "1EBC6SmqHzxl"
      },
      "outputs": [],
      "source": [
        "\n",
        "from statsmodels.tsa.stattools import adfuller\n",
        "def print_df_stats(series, order):\n",
        "    x=series\n",
        "    if (order>0):\n",
        "        x=x.diff(order)[order:]\n",
        "    result = adfuller(x)\n",
        "    print('ADF Statistic: {}'.format(result[0]))\n",
        "    print('p-value: {}'.format(result[1]))\n",
        "    print('Critical Values:')\n",
        "    for key, value in result[4].items():\n",
        "        print('\\t{}: {}'.format(key, value))\n",
        "\n",
        "print_df_stats(df_target, 0)\n",
        "print_df_stats(df_target, 1)"
      ]
    },
    {
      "cell_type": "code",
      "execution_count": null,
      "metadata": {
        "id": "FcAAVZ3-Hzxl",
        "outputId": "a9ac6930-9a47-461d-8b4a-b8ec74b3fbb8"
      },
      "outputs": [
        {
          "ename": "KeyboardInterrupt",
          "evalue": "",
          "output_type": "error",
          "traceback": [
            "\u001b[0;31m---------------------------------------------------------------------------\u001b[0m",
            "\u001b[0;31mKeyboardInterrupt\u001b[0m                         Traceback (most recent call last)",
            "Cell \u001b[0;32mIn[14], line 6\u001b[0m\n\u001b[1;32m      3\u001b[0m diff_series\u001b[38;5;241m=\u001b[39mdf_merged[\u001b[38;5;124m'\u001b[39m\u001b[38;5;124msla_target\u001b[39m\u001b[38;5;124m'\u001b[39m]\u001b[38;5;241m.\u001b[39mdiff(\u001b[38;5;241m2\u001b[39m)[\u001b[38;5;241m2\u001b[39m:]\n\u001b[1;32m      5\u001b[0m lag_acf\u001b[38;5;241m=\u001b[39macf(diff_series, nlags\u001b[38;5;241m=\u001b[39m\u001b[38;5;241m365\u001b[39m)\n\u001b[0;32m----> 6\u001b[0m lag_pacf\u001b[38;5;241m=\u001b[39m\u001b[43mpacf\u001b[49m\u001b[43m(\u001b[49m\u001b[43mdiff_series\u001b[49m\u001b[43m,\u001b[49m\u001b[43m \u001b[49m\u001b[43mnlags\u001b[49m\u001b[38;5;241;43m=\u001b[39;49m\u001b[38;5;241;43m365\u001b[39;49m\u001b[43m,\u001b[49m\u001b[43m \u001b[49m\u001b[43mmethod\u001b[49m\u001b[38;5;241;43m=\u001b[39;49m\u001b[38;5;124;43m'\u001b[39;49m\u001b[38;5;124;43mols\u001b[39;49m\u001b[38;5;124;43m'\u001b[39;49m\u001b[43m)\u001b[49m\n\u001b[1;32m      7\u001b[0m plt\u001b[38;5;241m.\u001b[39mfigure(figsize\u001b[38;5;241m=\u001b[39m(\u001b[38;5;241m20\u001b[39m,\u001b[38;5;241m10\u001b[39m))\n\u001b[1;32m      8\u001b[0m plt\u001b[38;5;241m.\u001b[39msubplot(\u001b[38;5;241m121\u001b[39m)\n",
            "File \u001b[0;32m~/Documents/VirtualEnvironments/.main/lib/python3.11/site-packages/statsmodels/tsa/stattools.py:1047\u001b[0m, in \u001b[0;36mpacf\u001b[0;34m(x, nlags, method, alpha)\u001b[0m\n\u001b[1;32m   1045\u001b[0m     efficient \u001b[38;5;241m=\u001b[39m \u001b[38;5;124m\"\u001b[39m\u001b[38;5;124minefficient\u001b[39m\u001b[38;5;124m\"\u001b[39m \u001b[38;5;129;01mnot\u001b[39;00m \u001b[38;5;129;01min\u001b[39;00m method\n\u001b[1;32m   1046\u001b[0m     adjusted \u001b[38;5;241m=\u001b[39m \u001b[38;5;124m\"\u001b[39m\u001b[38;5;124madjusted\u001b[39m\u001b[38;5;124m\"\u001b[39m \u001b[38;5;129;01min\u001b[39;00m method\n\u001b[0;32m-> 1047\u001b[0m     ret \u001b[38;5;241m=\u001b[39m \u001b[43mpacf_ols\u001b[49m\u001b[43m(\u001b[49m\u001b[43mx\u001b[49m\u001b[43m,\u001b[49m\u001b[43m \u001b[49m\u001b[43mnlags\u001b[49m\u001b[38;5;241;43m=\u001b[39;49m\u001b[43mnlags\u001b[49m\u001b[43m,\u001b[49m\u001b[43m \u001b[49m\u001b[43mefficient\u001b[49m\u001b[38;5;241;43m=\u001b[39;49m\u001b[43mefficient\u001b[49m\u001b[43m,\u001b[49m\u001b[43m \u001b[49m\u001b[43madjusted\u001b[49m\u001b[38;5;241;43m=\u001b[39;49m\u001b[43madjusted\u001b[49m\u001b[43m)\u001b[49m\n\u001b[1;32m   1048\u001b[0m \u001b[38;5;28;01melif\u001b[39;00m method \u001b[38;5;129;01min\u001b[39;00m (\u001b[38;5;124m\"\u001b[39m\u001b[38;5;124myw\u001b[39m\u001b[38;5;124m\"\u001b[39m, \u001b[38;5;124m\"\u001b[39m\u001b[38;5;124mywa\u001b[39m\u001b[38;5;124m\"\u001b[39m, \u001b[38;5;124m\"\u001b[39m\u001b[38;5;124mywadjusted\u001b[39m\u001b[38;5;124m\"\u001b[39m, \u001b[38;5;124m\"\u001b[39m\u001b[38;5;124myw_adjusted\u001b[39m\u001b[38;5;124m\"\u001b[39m):\n\u001b[1;32m   1049\u001b[0m     ret \u001b[38;5;241m=\u001b[39m pacf_yw(x, nlags\u001b[38;5;241m=\u001b[39mnlags, method\u001b[38;5;241m=\u001b[39m\u001b[38;5;124m\"\u001b[39m\u001b[38;5;124madjusted\u001b[39m\u001b[38;5;124m\"\u001b[39m)\n",
            "File \u001b[0;32m~/Documents/VirtualEnvironments/.main/lib/python3.11/site-packages/pandas/util/_decorators.py:213\u001b[0m, in \u001b[0;36mdeprecate_kwarg.<locals>._deprecate_kwarg.<locals>.wrapper\u001b[0;34m(*args, **kwargs)\u001b[0m\n\u001b[1;32m    211\u001b[0m         \u001b[38;5;28;01mraise\u001b[39;00m \u001b[38;5;167;01mTypeError\u001b[39;00m(msg)\n\u001b[1;32m    212\u001b[0m     kwargs[new_arg_name] \u001b[38;5;241m=\u001b[39m new_arg_value\n\u001b[0;32m--> 213\u001b[0m \u001b[38;5;28;01mreturn\u001b[39;00m \u001b[43mfunc\u001b[49m\u001b[43m(\u001b[49m\u001b[38;5;241;43m*\u001b[39;49m\u001b[43margs\u001b[49m\u001b[43m,\u001b[49m\u001b[43m \u001b[49m\u001b[38;5;241;43m*\u001b[39;49m\u001b[38;5;241;43m*\u001b[39;49m\u001b[43mkwargs\u001b[49m\u001b[43m)\u001b[49m\n",
            "File \u001b[0;32m~/Documents/VirtualEnvironments/.main/lib/python3.11/site-packages/statsmodels/tsa/stattools.py:909\u001b[0m, in \u001b[0;36mpacf_ols\u001b[0;34m(x, nlags, efficient, adjusted)\u001b[0m\n\u001b[1;32m    907\u001b[0m     xlags \u001b[38;5;241m=\u001b[39m add_constant(xlags)\n\u001b[1;32m    908\u001b[0m     \u001b[38;5;28;01mfor\u001b[39;00m k \u001b[38;5;129;01min\u001b[39;00m \u001b[38;5;28mrange\u001b[39m(\u001b[38;5;241m1\u001b[39m, nlags \u001b[38;5;241m+\u001b[39m \u001b[38;5;241m1\u001b[39m):\n\u001b[0;32m--> 909\u001b[0m         params \u001b[38;5;241m=\u001b[39m \u001b[43mlstsq\u001b[49m\u001b[43m(\u001b[49m\u001b[43mxlags\u001b[49m\u001b[43m[\u001b[49m\u001b[43mk\u001b[49m\u001b[43m:\u001b[49m\u001b[43m,\u001b[49m\u001b[43m \u001b[49m\u001b[43m:\u001b[49m\u001b[43m \u001b[49m\u001b[43mk\u001b[49m\u001b[43m \u001b[49m\u001b[38;5;241;43m+\u001b[39;49m\u001b[43m \u001b[49m\u001b[38;5;241;43m1\u001b[39;49m\u001b[43m]\u001b[49m\u001b[43m,\u001b[49m\u001b[43m \u001b[49m\u001b[43mx0\u001b[49m\u001b[43m[\u001b[49m\u001b[43mk\u001b[49m\u001b[43m:\u001b[49m\u001b[43m]\u001b[49m\u001b[43m,\u001b[49m\u001b[43m \u001b[49m\u001b[43mrcond\u001b[49m\u001b[38;5;241;43m=\u001b[39;49m\u001b[38;5;28;43;01mNone\u001b[39;49;00m\u001b[43m)\u001b[49m[\u001b[38;5;241m0\u001b[39m]\n\u001b[1;32m    910\u001b[0m         pacf[k] \u001b[38;5;241m=\u001b[39m np\u001b[38;5;241m.\u001b[39msqueeze(params[\u001b[38;5;241m-\u001b[39m\u001b[38;5;241m1\u001b[39m])\n\u001b[1;32m    911\u001b[0m \u001b[38;5;28;01melse\u001b[39;00m:\n",
            "File \u001b[0;32m~/Documents/VirtualEnvironments/.main/lib/python3.11/site-packages/statsmodels/compat/numpy.py:68\u001b[0m, in \u001b[0;36mlstsq\u001b[0;34m(a, b, rcond)\u001b[0m\n\u001b[1;32m     66\u001b[0m \u001b[38;5;28;01mif\u001b[39;00m NP_LT_114 \u001b[38;5;129;01mand\u001b[39;00m rcond \u001b[38;5;129;01mis\u001b[39;00m \u001b[38;5;28;01mNone\u001b[39;00m:\n\u001b[1;32m     67\u001b[0m     rcond \u001b[38;5;241m=\u001b[39m \u001b[38;5;241m-\u001b[39m\u001b[38;5;241m1\u001b[39m\n\u001b[0;32m---> 68\u001b[0m \u001b[38;5;28;01mreturn\u001b[39;00m \u001b[43mnp\u001b[49m\u001b[38;5;241;43m.\u001b[39;49m\u001b[43mlinalg\u001b[49m\u001b[38;5;241;43m.\u001b[39;49m\u001b[43mlstsq\u001b[49m\u001b[43m(\u001b[49m\u001b[43ma\u001b[49m\u001b[43m,\u001b[49m\u001b[43m \u001b[49m\u001b[43mb\u001b[49m\u001b[43m,\u001b[49m\u001b[43m \u001b[49m\u001b[43mrcond\u001b[49m\u001b[38;5;241;43m=\u001b[39;49m\u001b[43mrcond\u001b[49m\u001b[43m)\u001b[49m\n",
            "File \u001b[0;32m~/Documents/VirtualEnvironments/.main/lib/python3.11/site-packages/numpy/linalg/linalg.py:2326\u001b[0m, in \u001b[0;36mlstsq\u001b[0;34m(a, b, rcond)\u001b[0m\n\u001b[1;32m   2323\u001b[0m \u001b[38;5;28;01mif\u001b[39;00m n_rhs \u001b[38;5;241m==\u001b[39m \u001b[38;5;241m0\u001b[39m:\n\u001b[1;32m   2324\u001b[0m     \u001b[38;5;66;03m# lapack can't handle n_rhs = 0 - so allocate the array one larger in that axis\u001b[39;00m\n\u001b[1;32m   2325\u001b[0m     b \u001b[38;5;241m=\u001b[39m zeros(b\u001b[38;5;241m.\u001b[39mshape[:\u001b[38;5;241m-\u001b[39m\u001b[38;5;241m2\u001b[39m] \u001b[38;5;241m+\u001b[39m (m, n_rhs \u001b[38;5;241m+\u001b[39m \u001b[38;5;241m1\u001b[39m), dtype\u001b[38;5;241m=\u001b[39mb\u001b[38;5;241m.\u001b[39mdtype)\n\u001b[0;32m-> 2326\u001b[0m x, resids, rank, s \u001b[38;5;241m=\u001b[39m \u001b[43mgufunc\u001b[49m\u001b[43m(\u001b[49m\u001b[43ma\u001b[49m\u001b[43m,\u001b[49m\u001b[43m \u001b[49m\u001b[43mb\u001b[49m\u001b[43m,\u001b[49m\u001b[43m \u001b[49m\u001b[43mrcond\u001b[49m\u001b[43m,\u001b[49m\u001b[43m \u001b[49m\u001b[43msignature\u001b[49m\u001b[38;5;241;43m=\u001b[39;49m\u001b[43msignature\u001b[49m\u001b[43m,\u001b[49m\u001b[43m \u001b[49m\u001b[43mextobj\u001b[49m\u001b[38;5;241;43m=\u001b[39;49m\u001b[43mextobj\u001b[49m\u001b[43m)\u001b[49m\n\u001b[1;32m   2327\u001b[0m \u001b[38;5;28;01mif\u001b[39;00m m \u001b[38;5;241m==\u001b[39m \u001b[38;5;241m0\u001b[39m:\n\u001b[1;32m   2328\u001b[0m     x[\u001b[38;5;241m.\u001b[39m\u001b[38;5;241m.\u001b[39m\u001b[38;5;241m.\u001b[39m] \u001b[38;5;241m=\u001b[39m \u001b[38;5;241m0\u001b[39m\n",
            "\u001b[0;31mKeyboardInterrupt\u001b[0m: "
          ]
        }
      ],
      "source": [
        "# from statsmodels.tsa.stattools import acf, pacf\n",
        "\n",
        "# diff_series=df_target.diff(2)[2:]\n",
        "\n",
        "# lag_acf=acf(diff_series, nlags=7)\n",
        "# lag_pacf=pacf(diff_series, nlags=7, method='ols')\n",
        "# plt.figure(figsize=(20,10))\n",
        "# plt.subplot(121)\n",
        "# plt.plot(lag_acf)\n",
        "# plt.axhline(y=0,linestyle='--',color='green')\n",
        "# plt.axhline(y=-1.96/np.sqrt(len(diff_series)),linestyle='--',color='green')\n",
        "# plt.axhline(y=1.96/np.sqrt(len(diff_series)),linestyle='--',color='green')\n",
        "# plt.title('Autocorrelation Function')\n",
        "# plt.subplot(122)\n",
        "# plt.plot(lag_pacf)\n",
        "# plt.axhline(y=0,linestyle='--',color='green')\n",
        "# plt.axhline(y=-1.96/np.sqrt(len(diff_series)),linestyle='--',color='green')\n",
        "# plt.axhline(y=1.96/np.sqrt(len(diff_series)),linestyle='--',color='green')\n",
        "# plt.title('Partial Autocorrelation Function')"
      ]
    },
    {
      "cell_type": "code",
      "execution_count": null,
      "metadata": {
        "id": "uYcLfdKxHzxm"
      },
      "outputs": [],
      "source": []
    }
  ],
  "metadata": {
    "kernelspec": {
      "display_name": ".main",
      "language": "python",
      "name": ".main"
    },
    "language_info": {
      "codemirror_mode": {
        "name": "ipython",
        "version": 3
      },
      "file_extension": ".py",
      "mimetype": "text/x-python",
      "name": "python",
      "nbconvert_exporter": "python",
      "pygments_lexer": "ipython3",
      "version": "3.11.8"
    },
    "colab": {
      "provenance": [],
      "include_colab_link": true
    }
  },
  "nbformat": 4,
  "nbformat_minor": 0
}