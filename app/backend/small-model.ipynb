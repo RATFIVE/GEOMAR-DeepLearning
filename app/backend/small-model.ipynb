{
  "cells": [
    {
      "cell_type": "markdown",
      "metadata": {
        "colab_type": "text",
        "id": "view-in-github"
      },
      "source": [
        "<a href=\"https://colab.research.google.com/github/RATFIVE/GEOMAR-DeepLearning/blob/main/app/backend/small-model.ipynb\" target=\"_parent\"><img src=\"https://colab.research.google.com/assets/colab-badge.svg\" alt=\"Open In Colab\"/></a>"
      ]
    },
    {
      "cell_type": "code",
      "execution_count": 1,
      "metadata": {
        "id": "SD_wFGmmIBUp"
      },
      "outputs": [],
      "source": [
        "#from google.colab import drive\n",
        "#drive.mount('/content/drive')"
      ]
    },
    {
      "cell_type": "markdown",
      "metadata": {
        "id": "HM1ePaXH9S9y"
      },
      "source": [
        "## Clone the data from GitHub"
      ]
    },
    {
      "cell_type": "code",
      "execution_count": 2,
      "metadata": {
        "colab": {
          "base_uri": "https://localhost:8080/"
        },
        "id": "asHRi6NrW8d7",
        "outputId": "0b179650-2968-49d3-914d-90a590ab3a01"
      },
      "outputs": [
        {
          "data": {
            "text/plain": [
              "\"\\nimport os\\nif not os.path.exists('GEOMAR-DeepLearning'):\\n    print(f'GEOMAR-DeepLearning does not exist')\\n    !git clone https://github.com/RATFIVE/GEOMAR-DeepLearning.git\\n    %cd GEOMAR-DeepLearning/app/backend\\n    !git pull\\n    !pip install -r requirements.txt\\nelse:\\n    print(f'GEOMAR-DeepLearning exists')\\n    %cd GEOMAR-DeepLearning/app/backend\\n    !git pull\\n    !pip install -r requirements.txt\\n\\n\""
            ]
          },
          "execution_count": 2,
          "metadata": {},
          "output_type": "execute_result"
        }
      ],
      "source": [
        "\"\"\"\n",
        "import os\n",
        "if not os.path.exists('GEOMAR-DeepLearning'):\n",
        "    print(f'GEOMAR-DeepLearning does not exist')\n",
        "    !git clone https://github.com/RATFIVE/GEOMAR-DeepLearning.git\n",
        "    %cd GEOMAR-DeepLearning/app/backend\n",
        "    !git pull\n",
        "    !pip install -r requirements.txt\n",
        "else:\n",
        "    print(f'GEOMAR-DeepLearning exists')\n",
        "    %cd GEOMAR-DeepLearning/app/backend\n",
        "    !git pull\n",
        "    !pip install -r requirements.txt\n",
        "\n",
        "\"\"\""
      ]
    },
    {
      "cell_type": "markdown",
      "metadata": {
        "id": "PpOApovX9ZhU"
      },
      "source": [
        "## Import Libaries"
      ]
    },
    {
      "cell_type": "code",
      "execution_count": null,
      "metadata": {
        "id": "1E2fH33dHzxc"
      },
      "outputs": [],
      "source": [
        "# import all necessary libraries\n",
        "import copy\n",
        "import os\n",
        "from PIL import Image\n",
        "from IPython.display import Image\n",
        "import matplotlib.pyplot as plt\n",
        "import matplotlib.cm as cm\n",
        "import numpy as np\n",
        "import numpy as np\n",
        "import pandas as pd\n",
        "import seaborn as sns\n",
        "import torch\n",
        "from sklearn import metrics\n",
        "from sklearn.dummy import DummyClassifier\n",
        "from sklearn.metrics import accuracy_score, f1_score, roc_auc_score\n",
        "from sklearn.model_selection import train_test_split\n",
        "from sklearn.preprocessing import MinMaxScaler\n",
        "from sklearn.svm import SVC\n",
        "from torch import nn\n",
        "from torch.optim.lr_scheduler import ReduceLROnPlateau\n",
        "from torch.utils.data import DataLoader, TensorDataset\n",
        "from torch.utils.tensorboard import SummaryWriter\n",
        "import datetime\n",
        "from utils.Copernicus import AdvancedCopernicus\n",
        "import xarray as xr\n",
        "import pandas as pd\n",
        "import numpy as np\n",
        "import matplotlib.pyplot as plt\n",
        "from sklearn.preprocessing import MinMaxScaler\n",
        "import warnings\n",
        "from tqdm import tqdm\n",
        "# Ignore SettingWithCopyWarning:\n",
        "warnings.filterwarnings(\"ignore\", category=pd.errors.SettingWithCopyWarning)\n",
        "\n",
        "\n",
        "\n",
        "# Display all columns\n",
        "pd.options.display.max_columns = None\n",
        "pd.options.display.max_rows = None"
      ]
    },
    {
      "cell_type": "markdown",
      "metadata": {
        "id": "9rGeihqp9dLo"
      },
      "source": [
        "## Import Data"
      ]
    },
    {
      "cell_type": "code",
      "execution_count": null,
      "metadata": {},
      "outputs": [
        {
          "data": {
            "text/html": [
              "<div>\n",
              "<style scoped>\n",
              "    .dataframe tbody tr th:only-of-type {\n",
              "        vertical-align: middle;\n",
              "    }\n",
              "\n",
              "    .dataframe tbody tr th {\n",
              "        vertical-align: top;\n",
              "    }\n",
              "\n",
              "    .dataframe thead th {\n",
              "        text-align: right;\n",
              "    }\n",
              "</style>\n",
              "<table border=\"1\" class=\"dataframe\">\n",
              "  <thead>\n",
              "    <tr style=\"text-align: right;\">\n",
              "      <th></th>\n",
              "      <th>time</th>\n",
              "      <th>values</th>\n",
              "      <th>sla_target</th>\n",
              "    </tr>\n",
              "  </thead>\n",
              "  <tbody>\n",
              "    <tr>\n",
              "      <th>0</th>\n",
              "      <td>2025-02-01 00:00:00</td>\n",
              "      <td>[[[0.5016462207, 3.9498741627, 11.4310970306, ...</td>\n",
              "      <td>-0.120450</td>\n",
              "    </tr>\n",
              "    <tr>\n",
              "      <th>1</th>\n",
              "      <td>2025-02-01 01:00:00</td>\n",
              "      <td>[[[0.5016462207, 3.9476611614, 11.4490509033, ...</td>\n",
              "      <td>-0.091966</td>\n",
              "    </tr>\n",
              "    <tr>\n",
              "      <th>2</th>\n",
              "      <td>2025-02-01 02:00:00</td>\n",
              "      <td>[[[0.5016462207, 3.9451875686999998, 11.472709...</td>\n",
              "      <td>-0.065222</td>\n",
              "    </tr>\n",
              "    <tr>\n",
              "      <th>3</th>\n",
              "      <td>2025-02-01 03:00:00</td>\n",
              "      <td>[[[0.5016462207, 3.9427809715, 11.501332283, 0...</td>\n",
              "      <td>-0.014131</td>\n",
              "    </tr>\n",
              "    <tr>\n",
              "      <th>4</th>\n",
              "      <td>2025-02-01 04:00:00</td>\n",
              "      <td>[[[0.5016462207, 3.942296505, 11.5287723541, 0...</td>\n",
              "      <td>0.020769</td>\n",
              "    </tr>\n",
              "  </tbody>\n",
              "</table>\n",
              "</div>"
            ],
            "text/plain": [
              "                  time                                             values  \\\n",
              "0  2025-02-01 00:00:00  [[[0.5016462207, 3.9498741627, 11.4310970306, ...   \n",
              "1  2025-02-01 01:00:00  [[[0.5016462207, 3.9476611614, 11.4490509033, ...   \n",
              "2  2025-02-01 02:00:00  [[[0.5016462207, 3.9451875686999998, 11.472709...   \n",
              "3  2025-02-01 03:00:00  [[[0.5016462207, 3.9427809715, 11.501332283, 0...   \n",
              "4  2025-02-01 04:00:00  [[[0.5016462207, 3.942296505, 11.5287723541, 0...   \n",
              "\n",
              "   sla_target  \n",
              "0   -0.120450  \n",
              "1   -0.091966  \n",
              "2   -0.065222  \n",
              "3   -0.014131  \n",
              "4    0.020769  "
            ]
          },
          "execution_count": 18,
          "metadata": {},
          "output_type": "execute_result"
        }
      ],
      "source": [
        "file_path = f'data/output-100-2025-02-01-1.075874074001014.nc.json'\n",
        "\n",
        "# Load json\n",
        "df_model = pd.read_json(file_path)\n",
        "\n",
        "df_model.head(5)"
      ]
    },
    {
      "cell_type": "markdown",
      "metadata": {
        "id": "ONY7Qndi2hl4"
      },
      "source": [
        "## Create Learning and Target data"
      ]
    },
    {
      "cell_type": "code",
      "execution_count": null,
      "metadata": {
        "colab": {
          "base_uri": "https://localhost:8080/"
        },
        "id": "zPoAazbX50sI",
        "outputId": "9e5e62c4-a835-4f89-de99-13e46cc17386"
      },
      "outputs": [
        {
          "name": "stdout",
          "output_type": "stream",
          "text": [
            "(101, 40, 38, 11)\n"
          ]
        }
      ],
      "source": [
        "learning_data = df_model['values']\n",
        "learning_data = list(learning_data)\n",
        "learning_data = np.array(learning_data)\n",
        "print(learning_data.shape)"
      ]
    },
    {
      "cell_type": "code",
      "execution_count": null,
      "metadata": {
        "colab": {
          "base_uri": "https://localhost:8080/"
        },
        "id": "h3FqYCDMMM3l",
        "outputId": "76709824-bccc-4d72-d225-7db3ec5199c2"
      },
      "outputs": [
        {
          "name": "stdout",
          "output_type": "stream",
          "text": [
            "(101,)\n"
          ]
        }
      ],
      "source": [
        "target = df_model['sla_target']\n",
        "target = list(target)\n",
        "target = np.array(target)\n",
        "print(target.shape)"
      ]
    },
    {
      "cell_type": "markdown",
      "metadata": {
        "id": "G7bKKrWO2nFf"
      },
      "source": [
        "## Scale the data\n"
      ]
    },
    {
      "cell_type": "code",
      "execution_count": null,
      "metadata": {
        "colab": {
          "base_uri": "https://localhost:8080/"
        },
        "id": "yu9OW5LJ63g0",
        "outputId": "a638884e-ecdc-48f9-ee6b-dc1b320df557"
      },
      "outputs": [
        {
          "name": "stdout",
          "output_type": "stream",
          "text": [
            "101\n",
            "40\n",
            "38\n",
            "11\n"
          ]
        }
      ],
      "source": [
        "number_of_data_points = len(learning_data)\n",
        "print(number_of_data_points)\n",
        "\n",
        "image_heigt = learning_data.shape[1]\n",
        "print(image_heigt)\n",
        "\n",
        "image_width = learning_data.shape[2]\n",
        "print(image_width)\n",
        "\n",
        "number_of_features = learning_data.shape[3]\n",
        "print(number_of_features)"
      ]
    },
    {
      "cell_type": "code",
      "execution_count": null,
      "metadata": {
        "colab": {
          "base_uri": "https://localhost:8080/"
        },
        "id": "XNzRjx9iM8kT",
        "outputId": "241a84fd-262c-43c9-cdce-c21d3bf9a57b"
      },
      "outputs": [
        {
          "name": "stdout",
          "output_type": "stream",
          "text": [
            "X shape: torch.Size([54, 24, 40, 38, 11])\n",
            "y shape: torch.Size([54, 24])\n"
          ]
        }
      ],
      "source": [
        "import numpy as np\n",
        "import torch\n",
        "\n",
        "def create_overlapping_windows(data, target, window_size=24, pred_size=24, stride=1):\n",
        "    \"\"\"\n",
        "    Erstellt Overlapping Windows aus den Zeitseriendaten.\n",
        "\n",
        "    Args:\n",
        "        data (np.array): Eingabe mit Shape (T, 40, 38, 11)\n",
        "        target (np.array): Wasserpegel mit Shape (T, 1)\n",
        "        window_size (int): Länge des Eingabefensters\n",
        "        pred_size (int): Länge des vorherzusagenden Zeitraums\n",
        "        stride (int): Schrittweite zwischen Fenstern\n",
        "\n",
        "    Returns:\n",
        "        X_windows (torch.Tensor): Eingaben (Batch, window_size, 40, 38, 11)\n",
        "        y_windows (torch.Tensor): Targets (Batch, pred_size)\n",
        "    \"\"\"\n",
        "    X_windows = []\n",
        "    y_windows = []\n",
        "\n",
        "    T = data.shape[0]  # Anzahl der Zeitschritte\n",
        "\n",
        "    for i in range(0, T - window_size - pred_size + 1, stride):\n",
        "        X_windows.append(data[i:i + window_size])  # Letzte 24 Stunden\n",
        "        y_windows.append(target[i + window_size: i + window_size + pred_size].flatten())  # Nächste 24 Stunden\n",
        "\n",
        "    X_windows = np.array(X_windows)  # (Batch, 24, 40, 38, 11)\n",
        "    y_windows = np.array(y_windows)  # (Batch, 24)\n",
        "\n",
        "    return torch.tensor(X_windows, dtype=torch.float32), torch.tensor(y_windows, dtype=torch.float32)\n",
        "\n",
        "# Dummy-Daten erzeugen\n",
        "#T = 101  # 101 Zeitpunkte\n",
        "#data = np.random.rand(T, 40, 38, 11)  # Shape (101, 40, 38, 11)\n",
        "#target = np.random.rand(T, 1)  # Shape (101, 1)\n",
        "\n",
        "# Overlapping Windows erstellen\n",
        "X, y = create_overlapping_windows(learning_data, target, window_size=24, pred_size=24, stride=1)\n",
        "\n",
        "print(\"X shape:\", X.shape)  # (Batch, 24, 40, 38, 11)\n",
        "print(\"y shape:\", y.shape)  # (Batch, 24)\n"
      ]
    },
    {
      "cell_type": "code",
      "execution_count": null,
      "metadata": {
        "id": "KJSHgQmcA9xR"
      },
      "outputs": [],
      "source": [
        "def setup_experiment(dataset, target, seq_len, pred_len, test_share, val_share, scaler, ignored_last_month, stride=1):\n",
        "\n",
        "    # Skalierung der Daten\n",
        "    scaled_data = scaler.fit_transform(learning_data.reshape(-1, 1)).reshape(learning_data.shape)\n",
        "    scaled_target = scaler.transform(target.reshape(-1, 1)).reshape(target.shape)\n",
        "\n",
        "    # Erstelle überlappende Fenster mit der Funktion create_overlapping_windows\n",
        "    X, y = create_overlapping_windows(scaled_data, scaled_target, window_size=seq_len, pred_size=pred_len, stride=stride)\n",
        "\n",
        "    # Entferne die letzten ignorierten Monate\n",
        "    used_vec_length = len(y) - ignored_last_month\n",
        "\n",
        "    # Berechne die Größen für die Trainings-, Validierungs- und Testdaten\n",
        "    test_size = int(used_vec_length * test_share)\n",
        "    val_size = int(used_vec_length * val_share)\n",
        "    train_size = used_vec_length - test_size - val_size\n",
        "\n",
        "    # Indizes für das Aufteilen der Daten\n",
        "    index_val_start = train_size\n",
        "    index_test_start = train_size + val_size\n",
        "\n",
        "    # Aufteilen der Daten\n",
        "    x_train = X[0:index_val_start]\n",
        "    y_train = y[0:index_val_start]\n",
        "    x_val = X[index_val_start:index_test_start]\n",
        "    y_val = y[index_val_start:index_test_start]\n",
        "    x_test = X[index_test_start:used_vec_length]\n",
        "    y_test = y[index_test_start:used_vec_length]\n",
        "\n",
        "    return x_train, y_train, x_val, y_val, x_test, y_test, scaler\n",
        "\n",
        "\n",
        "# Beispielaufruf der setup_experiment Funktion\n",
        "x_train, y_train, x_val, y_val, x_test, y_test, scaler = setup_experiment(\n",
        "    dataset=learning_data,  # Deine Eingabedaten\n",
        "    target=target,  # Deine Zielwerte (z.B. Wasserpegel)\n",
        "    seq_len=24,  # Fenstergröße (24 Stunden)\n",
        "    pred_len=24,  # Vorhersagezeitraum (24 Stunden)\n",
        "    test_share=0.2,  # 20% für Testdaten\n",
        "    val_share=0.1,  # 10% für Validierungsdaten\n",
        "    scaler=MinMaxScaler(),  # Skalierer (z.B. MinMaxScaler)\n",
        "    ignored_last_month=0  # Keine letzten Monate ignorieren\n",
        ")\n"
      ]
    },
    {
      "cell_type": "code",
      "execution_count": null,
      "metadata": {
        "colab": {
          "base_uri": "https://localhost:8080/"
        },
        "id": "-Z8eaBs4JsLs",
        "outputId": "50fbc444-8c64-4320-bd8c-d03844988099"
      },
      "outputs": [
        {
          "name": "stdout",
          "output_type": "stream",
          "text": [
            "torch.Size([54, 24])\n"
          ]
        }
      ],
      "source": [
        "import torch\n",
        "import torch.nn as nn\n",
        "import torch.optim as optim\n",
        "\n",
        "class OceanWaterLevelPredictor(nn.Module):\n",
        "    def __init__(self, X_data, hidden_dim=64, num_layers=2):\n",
        "        super(OceanWaterLevelPredictor, self).__init__()\n",
        "\n",
        "        # Convolutional Block (räumliche Merkmale extrahieren)\n",
        "        self.conv1 = nn.Conv2d(in_channels=11, out_channels=32, kernel_size=3, padding=1)\n",
        "        self.conv2 = nn.Conv2d(in_channels=32, out_channels=64, kernel_size=3, padding=1)\n",
        "        self.pool = nn.MaxPool2d(2, 2)\n",
        "        self.relu = nn.ReLU()\n",
        "\n",
        "\n",
        "        # LSTM Block (zeitliche Abhängigkeiten lernen)\n",
        "        # Calculate input size for LSTM\n",
        "        # Assuming output of conv2 is (batch_size, 64, lat/2, lon/2) after pooling\n",
        "        # You might need to adjust these dimensions based on your actual data and pooling layers.\n",
        "        # For example if the dummy_input has dimensions (8, 24, 40, 38, 11),\n",
        "        # the Conv2d and max pooling operation will result into (batch, 64, 10, 9)\n",
        "        # which results in an input_size for the LSTM of 9 * 10 * 64 = 5760\n",
        "        # (adjust to the dimensions of learning data)\n",
        "        #self.lstm_input_size = 9 * 10 * 64  # Adjust these based on CNN output size\n",
        "        # Berechnung der CNN-Ausgabegröße mit Dummy-Daten\n",
        "        self.lstm_input_size = self._get_lstm_input_size(X_data)\n",
        "        self.lstm = nn.LSTM(input_size=self.lstm_input_size, hidden_size=hidden_dim, num_layers=num_layers, batch_first=True)\n",
        "\n",
        "        # Fully Connected Layer (Endvorhersage)\n",
        "        self.fc = nn.Linear(hidden_dim, 24)  # 24 Stunden Vorhersage\n",
        "\n",
        "    def _get_lstm_input_size(self, X_data):\n",
        "        \"\"\"Berechnet die korrekte input_size für das LSTM anhand der CNN-Ausgabegröße\"\"\"\n",
        "        input_shape = X_data.shape\n",
        "        #print(input_shape)  # Print the shape to inspect\n",
        "        length_of_data = len(X_data)\n",
        "        #print(length_of_data)  # Print the length to inspect\n",
        "\n",
        "        # Check the number of dimensions and unpack accordingly\n",
        "        if len(input_shape) == 5:\n",
        "            batch_size, time_steps, lat, lon, features = (length_of_data, *input_shape[1:])  # Unpack for 5D input\n",
        "        elif len(input_shape) == 4:  # Assuming 4D input (Batch, lat, lon, features)\n",
        "            batch_size, lat, lon, features = (length_of_data, *input_shape[1:])\n",
        "            time_steps = 1  # Set time_steps to 1 for 4D input\n",
        "        else:\n",
        "            raise ValueError(f\"Unexpected input shape: {input_shape}. Expected 4 or 5 dimensions.\")\n",
        "\n",
        "        dummy_input = torch.randn(batch_size * time_steps, features, lat, lon)  # (Batch*Time, Features, H, W)\n",
        "\n",
        "        dummy_input = torch.randn(batch_size * time_steps, features, lat, lon)  # (Batch*Time, Features, H, W)\n",
        "\n",
        "        x = self.pool(self.relu(self.conv1(dummy_input)))\n",
        "        x = self.pool(self.relu(self.conv2(x)))\n",
        "\n",
        "        _, c, h, w = x.shape  # Output-Shape nach CNN\n",
        "        return c * h * w  # LSTM-Eingangsgröße berechnen\n",
        "\n",
        "    def forward(self, x):\n",
        "        batch_size, time_steps, lat, lon, features = x.shape\n",
        "        x = x.view(batch_size * time_steps, features, lat, lon)  # Kombiniere Zeit + Batch für CNN\n",
        "\n",
        "        # CNN Feature Extraction\n",
        "        x = self.pool(self.relu(self.conv1(x)))\n",
        "        x = self.pool(self.relu(self.conv2(x)))\n",
        "\n",
        "        # Reshape for LSTM, calculating the correct input size\n",
        "        x = x.view(batch_size, time_steps, -1)  # Reshape before LSTM\n",
        "\n",
        "        # LSTM für Sequenzverarbeitung\n",
        "        x, _ = self.lstm(x)\n",
        "\n",
        "        # Letzten Zeitschritt nehmen und durch FC-Schicht für 24-Stunden-Prognose\n",
        "        x = self.fc(x[:, -1, :])\n",
        "\n",
        "        return x  # Ausgabeform: (Batch, 24)\n",
        "\n",
        "# Testmodell\n",
        "model = OceanWaterLevelPredictor(X_data=X)\n",
        "#dummy_input = torch.randn(8, 24, 40, 38, 11)  # Batch=8, 24 Zeitpunkte, räumliche Größe (40,38), 11 Features\n",
        "output = model(X)\n",
        "print(output.shape)  # Erwartet: (8, 24)"
      ]
    },
    {
      "cell_type": "code",
      "execution_count": null,
      "metadata": {
        "colab": {
          "base_uri": "https://localhost:8080/"
        },
        "id": "nB6_2uYtD0XD",
        "outputId": "12fa95d7-47a8-4f42-f6f6-5a483279b28a"
      },
      "outputs": [
        {
          "name": "stdout",
          "output_type": "stream",
          "text": [
            "torch.Size([8, 24, 40, 38, 11]) torch.Size([8, 24])\n"
          ]
        }
      ],
      "source": [
        "from torch.utils.data import Dataset, DataLoader\n",
        "\n",
        "class OceanDataset(Dataset):\n",
        "    def __init__(self, data, target, window_size=24, pred_size=24, stride=1):\n",
        "        self.X, self.y = create_overlapping_windows(data, target, window_size, pred_size, stride)\n",
        "\n",
        "    def __len__(self):\n",
        "        return len(self.X)\n",
        "\n",
        "    def __getitem__(self, idx):\n",
        "        return self.X[idx], self.y[idx]\n",
        "\n",
        "dataset = OceanDataset(learning_data, target)\n",
        "dataloader = DataLoader(dataset, batch_size=8, shuffle=True)\n",
        "\n",
        "for X_batch, y_batch in dataloader:\n",
        "    print(X_batch.shape, y_batch.shape)  # (8, 24, 40, 38, 11) und (8, 24)\n",
        "    break"
      ]
    },
    {
      "cell_type": "code",
      "execution_count": null,
      "metadata": {
        "colab": {
          "base_uri": "https://localhost:8080/"
        },
        "id": "_PMOi60OqAvN",
        "outputId": "788272ff-3bf1-4969-a5c1-4ec6d20daf71"
      },
      "outputs": [
        {
          "name": "stdout",
          "output_type": "stream",
          "text": [
            "| Epoch 1 | Train Loss: 0.0044 | Val Loss: 0.0023\n",
            "| Epoch 2 | Train Loss: 0.0017 | Val Loss: 0.0012\n",
            "| Epoch 3 | Train Loss: 0.0009 | Val Loss: 0.0006\n",
            "| Epoch 4 | Train Loss: 0.0005 | Val Loss: 0.0004\n",
            "| Epoch 5 | Train Loss: 0.0003 | Val Loss: 0.0002\n",
            "| Epoch 6 | Train Loss: 0.0001 | Val Loss: 0.0001\n",
            "| Epoch 7 | Train Loss: 0.0000 | Val Loss: 0.0000\n",
            "| Epoch 8 | Train Loss: 0.0000 | Val Loss: 0.0000\n",
            "| Epoch 9 | Train Loss: 0.0000 | Val Loss: 0.0000\n",
            "| Epoch 10 | Train Loss: 0.0000 | Val Loss: 0.0000\n",
            "| Epoch 11 | Train Loss: 0.0000 | Val Loss: 0.0000\n",
            "| Epoch 12 | Train Loss: 0.0000 | Val Loss: 0.0000\n",
            "| Epoch 13 | Train Loss: 0.0000 | Val Loss: 0.0000\n",
            "| Epoch 14 | Train Loss: 0.0000 | Val Loss: 0.0000\n",
            "| Epoch 15 | Train Loss: 0.0000 | Val Loss: 0.0000\n",
            "| Epoch 16 | Train Loss: 0.0000 | Val Loss: 0.0000\n",
            "| Epoch 17 | Train Loss: 0.0000 | Val Loss: 0.0000\n",
            "| Epoch 18 | Train Loss: 0.0000 | Val Loss: 0.0000\n",
            "| Epoch 19 | Train Loss: 0.0000 | Val Loss: 0.0000\n",
            "| Epoch 20 | Train Loss: 0.0000 | Val Loss: 0.0000\n",
            "| Epoch 21 | Train Loss: 0.0000 | Val Loss: 0.0000\n",
            "| Epoch 22 | Train Loss: 0.0000 | Val Loss: 0.0000\n",
            "| Epoch 23 | Train Loss: 0.0000 | Val Loss: 0.0000\n",
            "| Epoch 24 | Train Loss: 0.0000 | Val Loss: 0.0000\n",
            "| Epoch 25 | Train Loss: 0.0000 | Val Loss: 0.0000\n",
            "| Epoch 26 | Train Loss: 0.0000 | Val Loss: 0.0000\n",
            "| Epoch 27 | Train Loss: 0.0000 | Val Loss: 0.0000\n",
            "| Epoch 28 | Train Loss: 0.0000 | Val Loss: 0.0000\n",
            "| Epoch 29 | Train Loss: 0.0000 | Val Loss: 0.0000\n",
            "| Epoch 30 | Train Loss: 0.0000 | Val Loss: 0.0000\n",
            "| Epoch 31 | Train Loss: 0.0000 | Val Loss: 0.0000\n",
            "Early stopping due to no improvement in validation loss.\n",
            "Best validation loss: 0.0000\n"
          ]
        }
      ],
      "source": [
        "\n",
        "dropout_results = [] # storing the results of the dropout experiment\n",
        "\n",
        "from torch.utils.data import DataLoader, TensorDataset\n",
        "import torch.optim as optim\n",
        "import torch.nn as nn\n",
        "from torch.optim.lr_scheduler import ReduceLROnPlateau\n",
        "import copy\n",
        "\n",
        "def training(model, x_train, y_train, x_val, y_val, criterion, optimizer, epochs, batch_size=8, verbose=False):\n",
        "\n",
        "    # Set device to GPU if available\n",
        "    device = torch.device('cuda' if torch.cuda.is_available() else 'cpu')\n",
        "\n",
        "    # Convert Numpy Arrays to Torch Tensor\n",
        "    #x_train = torch.tensor(x_train, dtype=torch.float32)\n",
        "    #y_train = torch.tensor(y_train, dtype=torch.float32)\n",
        "    #x_val = torch.tensor(x_val, dtype=torch.float32)\n",
        "    #y_val = torch.tensor(y_val, dtype=torch.float32)\n",
        "\n",
        "    # Move model to device\n",
        "    model.to(device)\n",
        "\n",
        "    # Initialize best metrics and model\n",
        "    best_eval_metric_val = -float('inf')  # Initialize the best evaluation metric\n",
        "    best_val_loss = float('inf')  # Initialize the best validation loss\n",
        "    best_model = copy.deepcopy(model.state_dict())  # Initialize the best model\n",
        "    patience_counter_loss = 0  # Early stopping counter for loss\n",
        "    patience_counter_metric = 0  # Early stopping counter for evaluation metric\n",
        "\n",
        "    # DataLoader for training data\n",
        "    train_dataset = TensorDataset(x_train, y_train)\n",
        "    train_dataloader = DataLoader(train_dataset, batch_size=batch_size, shuffle=True)\n",
        "\n",
        "    # DataLoader for validation data\n",
        "    val_dataset = TensorDataset(x_val, y_val)\n",
        "    val_dataloader = DataLoader(val_dataset, batch_size=batch_size, shuffle=False)\n",
        "\n",
        "    # Scheduler for learning rate adjustment\n",
        "    scheduler = ReduceLROnPlateau(optimizer, mode='min', patience=3, factor=0.5)\n",
        "\n",
        "    # Training Loop\n",
        "    for epoch in range(epochs):\n",
        "        model.train()\n",
        "        epoch_loss = 0\n",
        "\n",
        "        # Training loop\n",
        "        for data, target in train_dataloader:\n",
        "            data, target = data.to(device), target.to(device)\n",
        "\n",
        "            optimizer.zero_grad()  # Clear gradients\n",
        "            outputs = model(data)  # Forward pass\n",
        "            loss = criterion(outputs, target)  # Calculate loss\n",
        "            loss.backward()  # Backpropagation\n",
        "            optimizer.step()  # Update weights\n",
        "\n",
        "            epoch_loss += loss.item()  # Accumulate batch loss\n",
        "\n",
        "        # Validation loop\n",
        "        model.eval()\n",
        "        val_loss = 0\n",
        "        with torch.no_grad():\n",
        "            for data, target in val_dataloader:\n",
        "                data, target = data.to(device), target.to(device)\n",
        "                outputs = model(data)\n",
        "                loss = criterion(outputs, target)\n",
        "                val_loss += loss.item()\n",
        "\n",
        "        # Print status\n",
        "        if verbose:\n",
        "            print(f\"| Epoch {epoch+1} | Train Loss: {epoch_loss / len(train_dataloader):.4f} | Val Loss: {val_loss / len(val_dataloader):.4f}\")\n",
        "\n",
        "        # Check if the validation loss improved\n",
        "        scheduler.step(val_loss)  # Adjust learning rate if necessary\n",
        "\n",
        "        # Early stopping based on validation loss\n",
        "        if val_loss < best_val_loss:\n",
        "            best_val_loss = val_loss\n",
        "            best_model = copy.deepcopy(model.state_dict())  # Save the best model\n",
        "            patience_counter_loss = 0\n",
        "        else:\n",
        "            patience_counter_loss += 1\n",
        "\n",
        "        # Early stopping if no improvement for 'patience' epochs\n",
        "        if patience_counter_loss >= 10:\n",
        "            print(\"Early stopping due to no improvement in validation loss.\")\n",
        "            break\n",
        "\n",
        "    # Load the best model\n",
        "    model.load_state_dict(best_model)\n",
        "    print(f\"Best validation loss: {best_val_loss:.4f}\")\n",
        "\n",
        "    return model\n",
        "\n",
        "\n",
        "criterion = nn.MSELoss()\n",
        "optimizer = optim.Adam(model.parameters(), lr=0.0001)\n",
        "epochs = 1000\n",
        "best_model = training(model, x_train, y_train, x_val, y_val, criterion, optimizer, epochs, batch_size=8, verbose=True)\n",
        "\n"
      ]
    },
    {
      "cell_type": "code",
      "execution_count": null,
      "metadata": {
        "colab": {
          "base_uri": "https://localhost:8080/",
          "height": 481
        },
        "id": "xKepU54sDhR5",
        "outputId": "676b6561-ec6a-4eda-df1b-2acac5b4c244"
      },
      "outputs": [
        {
          "name": "stdout",
          "output_type": "stream",
          "text": [
            "torch.Size([10, 24, 40, 38, 11])\n",
            "(10, 24)\n",
            "(10, 24)\n"
          ]
        },
        {
          "data": {
            "image/png": "[encoded data removed]",
            "text/plain": [
              "<Figure size 640x480 with 1 Axes>"
            ]
          },
          "metadata": {},
          "output_type": "display_data"
        }
      ],
      "source": [
        "# Überprüfe, ob das Modell auf der GPU oder der CPU ist\n",
        "device = torch.device('cuda' if torch.cuda.is_available() else 'cpu')\n",
        "\n",
        "# Das Modell auf das entsprechende Gerät verschieben\n",
        "model.to(device)\n",
        "\n",
        "# Die Eingabedaten auch auf das gleiche Gerät verschieben\n",
        "x_test = x_test.to(device)\n",
        "\n",
        "# Vorhersagen mit dem Modell\n",
        "model.eval()\n",
        "with torch.no_grad():\n",
        "    y_pred = model(x_test)\n",
        "\n",
        "# Retransform the scaled data back to original values\n",
        "y_pred = scaler.inverse_transform(y_pred.cpu().numpy())\n",
        "y_test = scaler.inverse_transform(y_test.cpu().numpy())\n",
        "\n",
        "print(x_test.shape)\n",
        "print(y_pred.shape)\n",
        "print(y_test.shape)\n",
        "# Plotten der Ergebnisse\n",
        "plt.plot(y_test, label=\"Echter Wasserstand\")\n",
        "plt.plot(y_pred, label=\"Vorhergesagter Wasserstand\", linestyle=\"dashed\")\n",
        "#plt.legend()\n",
        "plt.show()\n"
      ]
    },
    {
      "cell_type": "code",
      "execution_count": null,
      "metadata": {},
      "outputs": [
        {
          "data": {
            "text/html": [
              "<div>\n",
              "<style scoped>\n",
              "    .dataframe tbody tr th:only-of-type {\n",
              "        vertical-align: middle;\n",
              "    }\n",
              "\n",
              "    .dataframe tbody tr th {\n",
              "        vertical-align: top;\n",
              "    }\n",
              "\n",
              "    .dataframe thead th {\n",
              "        text-align: right;\n",
              "    }\n",
              "</style>\n",
              "<table border=\"1\" class=\"dataframe\">\n",
              "  <thead>\n",
              "    <tr style=\"text-align: right;\">\n",
              "      <th></th>\n",
              "      <th>x_test</th>\n",
              "    </tr>\n",
              "  </thead>\n",
              "  <tbody>\n",
              "    <tr>\n",
              "      <th>0</th>\n",
              "      <td>0.037849</td>\n",
              "    </tr>\n",
              "    <tr>\n",
              "      <th>1</th>\n",
              "      <td>0.167063</td>\n",
              "    </tr>\n",
              "    <tr>\n",
              "      <th>2</th>\n",
              "      <td>0.394779</td>\n",
              "    </tr>\n",
              "    <tr>\n",
              "      <th>3</th>\n",
              "      <td>0.019172</td>\n",
              "    </tr>\n",
              "    <tr>\n",
              "      <th>4</th>\n",
              "      <td>0.019172</td>\n",
              "    </tr>\n",
              "  </tbody>\n",
              "</table>\n",
              "</div>"
            ],
            "text/plain": [
              "     x_test\n",
              "0  0.037849\n",
              "1  0.167063\n",
              "2  0.394779\n",
              "3  0.019172\n",
              "4  0.019172"
            ]
          },
          "execution_count": 38,
          "metadata": {},
          "output_type": "execute_result"
        }
      ],
      "source": [
        "x_test_cpu = x_test.cpu().numpy()\n",
        "x_test_cpu\n",
        "\n",
        "df_compare = pd.DataFrame({\"x_test\": x_test_cpu.flatten()})\n"
      ]
    },
    {
      "cell_type": "code",
      "execution_count": null,
      "metadata": {},
      "outputs": [
        {
          "data": {
            "text/html": [
              "<div>\n",
              "<style scoped>\n",
              "    .dataframe tbody tr th:only-of-type {\n",
              "        vertical-align: middle;\n",
              "    }\n",
              "\n",
              "    .dataframe tbody tr th {\n",
              "        vertical-align: top;\n",
              "    }\n",
              "\n",
              "    .dataframe thead th {\n",
              "        text-align: right;\n",
              "    }\n",
              "</style>\n",
              "<table border=\"1\" class=\"dataframe\">\n",
              "  <thead>\n",
              "    <tr style=\"text-align: right;\">\n",
              "      <th></th>\n",
              "      <th>x_test</th>\n",
              "    </tr>\n",
              "  </thead>\n",
              "  <tbody>\n",
              "    <tr>\n",
              "      <th>0</th>\n",
              "      <td>0.037849</td>\n",
              "    </tr>\n",
              "    <tr>\n",
              "      <th>1</th>\n",
              "      <td>0.167063</td>\n",
              "    </tr>\n",
              "    <tr>\n",
              "      <th>2</th>\n",
              "      <td>0.394779</td>\n",
              "    </tr>\n",
              "    <tr>\n",
              "      <th>3</th>\n",
              "      <td>0.019172</td>\n",
              "    </tr>\n",
              "    <tr>\n",
              "      <th>4</th>\n",
              "      <td>0.019172</td>\n",
              "    </tr>\n",
              "  </tbody>\n",
              "</table>\n",
              "</div>"
            ],
            "text/plain": [
              "     x_test\n",
              "0  0.037849\n",
              "1  0.167063\n",
              "2  0.394779\n",
              "3  0.019172\n",
              "4  0.019172"
            ]
          },
          "execution_count": 39,
          "metadata": {},
          "output_type": "execute_result"
        }
      ],
      "source": [
        "df_compare.head()"
      ]
    },
    {
      "cell_type": "code",
      "execution_count": null,
      "metadata": {},
      "outputs": [
        {
          "data": {
            "text/html": [
              "<div>\n",
              "<style scoped>\n",
              "    .dataframe tbody tr th:only-of-type {\n",
              "        vertical-align: middle;\n",
              "    }\n",
              "\n",
              "    .dataframe tbody tr th {\n",
              "        vertical-align: top;\n",
              "    }\n",
              "\n",
              "    .dataframe thead th {\n",
              "        text-align: right;\n",
              "    }\n",
              "</style>\n",
              "<table border=\"1\" class=\"dataframe\">\n",
              "  <thead>\n",
              "    <tr style=\"text-align: right;\">\n",
              "      <th></th>\n",
              "      <th>time</th>\n",
              "      <th>values</th>\n",
              "    </tr>\n",
              "  </thead>\n",
              "  <tbody>\n",
              "    <tr>\n",
              "      <th>0</th>\n",
              "      <td>2025-02-01 00:00:00</td>\n",
              "      <td>[[[0.5016462207, 3.9498741627, 11.4310970306, ...</td>\n",
              "    </tr>\n",
              "    <tr>\n",
              "      <th>1</th>\n",
              "      <td>2025-02-01 01:00:00</td>\n",
              "      <td>[[[0.5016462207, 3.9476611614, 11.4490509033, ...</td>\n",
              "    </tr>\n",
              "    <tr>\n",
              "      <th>2</th>\n",
              "      <td>2025-02-01 02:00:00</td>\n",
              "      <td>[[[0.5016462207, 3.9451875686999998, 11.472709...</td>\n",
              "    </tr>\n",
              "    <tr>\n",
              "      <th>3</th>\n",
              "      <td>2025-02-01 03:00:00</td>\n",
              "      <td>[[[0.5016462207, 3.9427809715, 11.501332283, 0...</td>\n",
              "    </tr>\n",
              "    <tr>\n",
              "      <th>4</th>\n",
              "      <td>2025-02-01 04:00:00</td>\n",
              "      <td>[[[0.5016462207, 3.942296505, 11.5287723541, 0...</td>\n",
              "    </tr>\n",
              "  </tbody>\n",
              "</table>\n",
              "</div>"
            ],
            "text/plain": [
              "                  time                                             values\n",
              "0  2025-02-01 00:00:00  [[[0.5016462207, 3.9498741627, 11.4310970306, ...\n",
              "1  2025-02-01 01:00:00  [[[0.5016462207, 3.9476611614, 11.4490509033, ...\n",
              "2  2025-02-01 02:00:00  [[[0.5016462207, 3.9451875686999998, 11.472709...\n",
              "3  2025-02-01 03:00:00  [[[0.5016462207, 3.9427809715, 11.501332283, 0...\n",
              "4  2025-02-01 04:00:00  [[[0.5016462207, 3.942296505, 11.5287723541, 0..."
            ]
          },
          "execution_count": 30,
          "metadata": {},
          "output_type": "execute_result"
        }
      ],
      "source": [
        "df_model[['time', \"values\"]].head(5)    \n",
        "\n"
      ]
    }
  ],
  "metadata": {
    "accelerator": "GPU",
    "colab": {
      "gpuType": "T4",
      "include_colab_link": true,
      "provenance": []
    },
    "kernelspec": {
      "display_name": ".main",
      "language": "python",
      "name": ".main"
    },
    "language_info": {
      "codemirror_mode": {
        "name": "ipython",
        "version": 3
      },
      "file_extension": ".py",
      "mimetype": "text/x-python",
      "name": "python",
      "nbconvert_exporter": "python",
      "pygments_lexer": "ipython3",
      "version": "3.11.8"
    },
    "widgets": {
      "application/vnd.jupyter.widget-state+json": {
        "040eea0881a04d02b7faf2c3effca4d9": {
          "model_module": "@jupyter-widgets/controls",
          "model_module_version": "1.5.0",
          "model_name": "ProgressStyleModel",
          "state": {
            "_model_module": "@jupyter-widgets/controls",
            "_model_module_version": "1.5.0",
            "_model_name": "ProgressStyleModel",
            "_view_count": null,
            "_view_module": "@jupyter-widgets/base",
            "_view_module_version": "1.2.0",
            "_view_name": "StyleView",
            "bar_color": null,
            "description_width": ""
          }
        },
        "12379b91f43d477fa27170daddeb9369": {
          "model_module": "@jupyter-widgets/base",
          "model_module_version": "1.2.0",
          "model_name": "LayoutModel",
          "state": {
            "_model_module": "@jupyter-widgets/base",
            "_model_module_version": "1.2.0",
            "_model_name": "LayoutModel",
            "_view_count": null,
            "_view_module": "@jupyter-widgets/base",
            "_view_module_version": "1.2.0",
            "_view_name": "LayoutView",
            "align_content": null,
            "align_items": null,
            "align_self": null,
            "border": null,
            "bottom": null,
            "display": null,
            "flex": null,
            "flex_flow": null,
            "grid_area": null,
            "grid_auto_columns": null,
            "grid_auto_flow": null,
            "grid_auto_rows": null,
            "grid_column": null,
            "grid_gap": null,
            "grid_row": null,
            "grid_template_areas": null,
            "grid_template_columns": null,
            "grid_template_rows": null,
            "height": null,
            "justify_content": null,
            "justify_items": null,
            "left": null,
            "margin": null,
            "max_height": null,
            "max_width": null,
            "min_height": null,
            "min_width": null,
            "object_fit": null,
            "object_position": null,
            "order": null,
            "overflow": null,
            "overflow_x": null,
            "overflow_y": null,
            "padding": null,
            "right": null,
            "top": null,
            "visibility": null,
            "width": null
          }
        },
        "1383b02a5f4049a080c3ca2c325c6687": {
          "model_module": "@jupyter-widgets/controls",
          "model_module_version": "1.5.0",
          "model_name": "FloatProgressModel",
          "state": {
            "_dom_classes": [],
            "_model_module": "@jupyter-widgets/controls",
            "_model_module_version": "1.5.0",
            "_model_name": "FloatProgressModel",
            "_view_count": null,
            "_view_module": "@jupyter-widgets/controls",
            "_view_module_version": "1.5.0",
            "_view_name": "ProgressView",
            "bar_style": "success",
            "description": "",
            "description_tooltip": null,
            "layout": "IPY_MODEL_26543bcb1f034139ba024498bdd39439",
            "max": 2,
            "min": 0,
            "orientation": "horizontal",
            "style": "IPY_MODEL_b84f47ad66d44767a8a978fd8a585aef",
            "value": 2
          }
        },
        "158843476d7541beb3067ca7127de1a0": {
          "model_module": "@jupyter-widgets/base",
          "model_module_version": "1.2.0",
          "model_name": "LayoutModel",
          "state": {
            "_model_module": "@jupyter-widgets/base",
            "_model_module_version": "1.2.0",
            "_model_name": "LayoutModel",
            "_view_count": null,
            "_view_module": "@jupyter-widgets/base",
            "_view_module_version": "1.2.0",
            "_view_name": "LayoutView",
            "align_content": null,
            "align_items": null,
            "align_self": null,
            "border": null,
            "bottom": null,
            "display": null,
            "flex": null,
            "flex_flow": null,
            "grid_area": null,
            "grid_auto_columns": null,
            "grid_auto_flow": null,
            "grid_auto_rows": null,
            "grid_column": null,
            "grid_gap": null,
            "grid_row": null,
            "grid_template_areas": null,
            "grid_template_columns": null,
            "grid_template_rows": null,
            "height": null,
            "justify_content": null,
            "justify_items": null,
            "left": null,
            "margin": null,
            "max_height": null,
            "max_width": null,
            "min_height": null,
            "min_width": null,
            "object_fit": null,
            "object_position": null,
            "order": null,
            "overflow": null,
            "overflow_x": null,
            "overflow_y": null,
            "padding": null,
            "right": null,
            "top": null,
            "visibility": null,
            "width": null
          }
        },
        "24f5d3de61ae4482b3c8b8e0a48351aa": {
          "model_module": "@jupyter-widgets/base",
          "model_module_version": "1.2.0",
          "model_name": "LayoutModel",
          "state": {
            "_model_module": "@jupyter-widgets/base",
            "_model_module_version": "1.2.0",
            "_model_name": "LayoutModel",
            "_view_count": null,
            "_view_module": "@jupyter-widgets/base",
            "_view_module_version": "1.2.0",
            "_view_name": "LayoutView",
            "align_content": null,
            "align_items": null,
            "align_self": null,
            "border": null,
            "bottom": null,
            "display": null,
            "flex": null,
            "flex_flow": null,
            "grid_area": null,
            "grid_auto_columns": null,
            "grid_auto_flow": null,
            "grid_auto_rows": null,
            "grid_column": null,
            "grid_gap": null,
            "grid_row": null,
            "grid_template_areas": null,
            "grid_template_columns": null,
            "grid_template_rows": null,
            "height": null,
            "justify_content": null,
            "justify_items": null,
            "left": null,
            "margin": null,
            "max_height": null,
            "max_width": null,
            "min_height": null,
            "min_width": null,
            "object_fit": null,
            "object_position": null,
            "order": null,
            "overflow": null,
            "overflow_x": null,
            "overflow_y": null,
            "padding": null,
            "right": null,
            "top": null,
            "visibility": null,
            "width": null
          }
        },
        "26543bcb1f034139ba024498bdd39439": {
          "model_module": "@jupyter-widgets/base",
          "model_module_version": "1.2.0",
          "model_name": "LayoutModel",
          "state": {
            "_model_module": "@jupyter-widgets/base",
            "_model_module_version": "1.2.0",
            "_model_name": "LayoutModel",
            "_view_count": null,
            "_view_module": "@jupyter-widgets/base",
            "_view_module_version": "1.2.0",
            "_view_name": "LayoutView",
            "align_content": null,
            "align_items": null,
            "align_self": null,
            "border": null,
            "bottom": null,
            "display": null,
            "flex": null,
            "flex_flow": null,
            "grid_area": null,
            "grid_auto_columns": null,
            "grid_auto_flow": null,
            "grid_auto_rows": null,
            "grid_column": null,
            "grid_gap": null,
            "grid_row": null,
            "grid_template_areas": null,
            "grid_template_columns": null,
            "grid_template_rows": null,
            "height": null,
            "justify_content": null,
            "justify_items": null,
            "left": null,
            "margin": null,
            "max_height": null,
            "max_width": null,
            "min_height": null,
            "min_width": null,
            "object_fit": null,
            "object_position": null,
            "order": null,
            "overflow": null,
            "overflow_x": null,
            "overflow_y": null,
            "padding": null,
            "right": null,
            "top": null,
            "visibility": null,
            "width": null
          }
        },
        "2f5357c36f444952bd174a0619bda09b": {
          "model_module": "@jupyter-widgets/controls",
          "model_module_version": "1.5.0",
          "model_name": "HTMLModel",
          "state": {
            "_dom_classes": [],
            "_model_module": "@jupyter-widgets/controls",
            "_model_module_version": "1.5.0",
            "_model_name": "HTMLModel",
            "_view_count": null,
            "_view_module": "@jupyter-widgets/controls",
            "_view_module_version": "1.5.0",
            "_view_name": "HTMLView",
            "description": "",
            "description_tooltip": null,
            "layout": "IPY_MODEL_849c76b486d5441b89ce28d3cd1411a1",
            "placeholder": "​",
            "style": "IPY_MODEL_706206b9195947ef9ea01b859a75d8fb",
            "value": " 2/2 [00:00&lt;00:00,  5.50it/s]"
          }
        },
        "506b51b02f264362a837c7b63b2fa16e": {
          "model_module": "@jupyter-widgets/base",
          "model_module_version": "1.2.0",
          "model_name": "LayoutModel",
          "state": {
            "_model_module": "@jupyter-widgets/base",
            "_model_module_version": "1.2.0",
            "_model_name": "LayoutModel",
            "_view_count": null,
            "_view_module": "@jupyter-widgets/base",
            "_view_module_version": "1.2.0",
            "_view_name": "LayoutView",
            "align_content": null,
            "align_items": null,
            "align_self": null,
            "border": null,
            "bottom": null,
            "display": null,
            "flex": null,
            "flex_flow": null,
            "grid_area": null,
            "grid_auto_columns": null,
            "grid_auto_flow": null,
            "grid_auto_rows": null,
            "grid_column": null,
            "grid_gap": null,
            "grid_row": null,
            "grid_template_areas": null,
            "grid_template_columns": null,
            "grid_template_rows": null,
            "height": null,
            "justify_content": null,
            "justify_items": null,
            "left": null,
            "margin": null,
            "max_height": null,
            "max_width": null,
            "min_height": null,
            "min_width": null,
            "object_fit": null,
            "object_position": null,
            "order": null,
            "overflow": null,
            "overflow_x": null,
            "overflow_y": null,
            "padding": null,
            "right": null,
            "top": null,
            "visibility": null,
            "width": null
          }
        },
        "517d5f66cd154580adc0d63ced53717a": {
          "model_module": "@jupyter-widgets/base",
          "model_module_version": "1.2.0",
          "model_name": "LayoutModel",
          "state": {
            "_model_module": "@jupyter-widgets/base",
            "_model_module_version": "1.2.0",
            "_model_name": "LayoutModel",
            "_view_count": null,
            "_view_module": "@jupyter-widgets/base",
            "_view_module_version": "1.2.0",
            "_view_name": "LayoutView",
            "align_content": null,
            "align_items": null,
            "align_self": null,
            "border": null,
            "bottom": null,
            "display": null,
            "flex": null,
            "flex_flow": null,
            "grid_area": null,
            "grid_auto_columns": null,
            "grid_auto_flow": null,
            "grid_auto_rows": null,
            "grid_column": null,
            "grid_gap": null,
            "grid_row": null,
            "grid_template_areas": null,
            "grid_template_columns": null,
            "grid_template_rows": null,
            "height": null,
            "justify_content": null,
            "justify_items": null,
            "left": null,
            "margin": null,
            "max_height": null,
            "max_width": null,
            "min_height": null,
            "min_width": null,
            "object_fit": null,
            "object_position": null,
            "order": null,
            "overflow": null,
            "overflow_x": null,
            "overflow_y": null,
            "padding": null,
            "right": null,
            "top": null,
            "visibility": null,
            "width": null
          }
        },
        "5f6c7fd47c6f408db604aa37bc3bb611": {
          "model_module": "@jupyter-widgets/controls",
          "model_module_version": "1.5.0",
          "model_name": "FloatProgressModel",
          "state": {
            "_dom_classes": [],
            "_model_module": "@jupyter-widgets/controls",
            "_model_module_version": "1.5.0",
            "_model_name": "FloatProgressModel",
            "_view_count": null,
            "_view_module": "@jupyter-widgets/controls",
            "_view_module_version": "1.5.0",
            "_view_name": "ProgressView",
            "bar_style": "success",
            "description": "",
            "description_tooltip": null,
            "layout": "IPY_MODEL_24f5d3de61ae4482b3c8b8e0a48351aa",
            "max": 330,
            "min": 0,
            "orientation": "horizontal",
            "style": "IPY_MODEL_040eea0881a04d02b7faf2c3effca4d9",
            "value": 330
          }
        },
        "634e039630b242f9b35a47045a1b8d82": {
          "model_module": "@jupyter-widgets/controls",
          "model_module_version": "1.5.0",
          "model_name": "HBoxModel",
          "state": {
            "_dom_classes": [],
            "_model_module": "@jupyter-widgets/controls",
            "_model_module_version": "1.5.0",
            "_model_name": "HBoxModel",
            "_view_count": null,
            "_view_module": "@jupyter-widgets/controls",
            "_view_module_version": "1.5.0",
            "_view_name": "HBoxView",
            "box_style": "",
            "children": [
              "IPY_MODEL_cd3fad87eec54068822b0721e58e9796",
              "IPY_MODEL_5f6c7fd47c6f408db604aa37bc3bb611",
              "IPY_MODEL_efbe98b509c444509d33745aa79036c0"
            ],
            "layout": "IPY_MODEL_703f229377d14f6e999cb2ab8e6e3de6"
          }
        },
        "703f229377d14f6e999cb2ab8e6e3de6": {
          "model_module": "@jupyter-widgets/base",
          "model_module_version": "1.2.0",
          "model_name": "LayoutModel",
          "state": {
            "_model_module": "@jupyter-widgets/base",
            "_model_module_version": "1.2.0",
            "_model_name": "LayoutModel",
            "_view_count": null,
            "_view_module": "@jupyter-widgets/base",
            "_view_module_version": "1.2.0",
            "_view_name": "LayoutView",
            "align_content": null,
            "align_items": null,
            "align_self": null,
            "border": null,
            "bottom": null,
            "display": null,
            "flex": null,
            "flex_flow": null,
            "grid_area": null,
            "grid_auto_columns": null,
            "grid_auto_flow": null,
            "grid_auto_rows": null,
            "grid_column": null,
            "grid_gap": null,
            "grid_row": null,
            "grid_template_areas": null,
            "grid_template_columns": null,
            "grid_template_rows": null,
            "height": null,
            "justify_content": null,
            "justify_items": null,
            "left": null,
            "margin": null,
            "max_height": null,
            "max_width": null,
            "min_height": null,
            "min_width": null,
            "object_fit": null,
            "object_position": null,
            "order": null,
            "overflow": null,
            "overflow_x": null,
            "overflow_y": null,
            "padding": null,
            "right": null,
            "top": null,
            "visibility": null,
            "width": null
          }
        },
        "706206b9195947ef9ea01b859a75d8fb": {
          "model_module": "@jupyter-widgets/controls",
          "model_module_version": "1.5.0",
          "model_name": "DescriptionStyleModel",
          "state": {
            "_model_module": "@jupyter-widgets/controls",
            "_model_module_version": "1.5.0",
            "_model_name": "DescriptionStyleModel",
            "_view_count": null,
            "_view_module": "@jupyter-widgets/base",
            "_view_module_version": "1.2.0",
            "_view_name": "StyleView",
            "description_width": ""
          }
        },
        "849c76b486d5441b89ce28d3cd1411a1": {
          "model_module": "@jupyter-widgets/base",
          "model_module_version": "1.2.0",
          "model_name": "LayoutModel",
          "state": {
            "_model_module": "@jupyter-widgets/base",
            "_model_module_version": "1.2.0",
            "_model_name": "LayoutModel",
            "_view_count": null,
            "_view_module": "@jupyter-widgets/base",
            "_view_module_version": "1.2.0",
            "_view_name": "LayoutView",
            "align_content": null,
            "align_items": null,
            "align_self": null,
            "border": null,
            "bottom": null,
            "display": null,
            "flex": null,
            "flex_flow": null,
            "grid_area": null,
            "grid_auto_columns": null,
            "grid_auto_flow": null,
            "grid_auto_rows": null,
            "grid_column": null,
            "grid_gap": null,
            "grid_row": null,
            "grid_template_areas": null,
            "grid_template_columns": null,
            "grid_template_rows": null,
            "height": null,
            "justify_content": null,
            "justify_items": null,
            "left": null,
            "margin": null,
            "max_height": null,
            "max_width": null,
            "min_height": null,
            "min_width": null,
            "object_fit": null,
            "object_position": null,
            "order": null,
            "overflow": null,
            "overflow_x": null,
            "overflow_y": null,
            "padding": null,
            "right": null,
            "top": null,
            "visibility": null,
            "width": null
          }
        },
        "94097d8ac96d4258af721da99d479a67": {
          "model_module": "@jupyter-widgets/controls",
          "model_module_version": "1.5.0",
          "model_name": "HBoxModel",
          "state": {
            "_dom_classes": [],
            "_model_module": "@jupyter-widgets/controls",
            "_model_module_version": "1.5.0",
            "_model_name": "HBoxModel",
            "_view_count": null,
            "_view_module": "@jupyter-widgets/controls",
            "_view_module_version": "1.5.0",
            "_view_name": "HBoxView",
            "box_style": "",
            "children": [
              "IPY_MODEL_dc90ebde1df94b8e921938d6146e2617",
              "IPY_MODEL_1383b02a5f4049a080c3ca2c325c6687",
              "IPY_MODEL_2f5357c36f444952bd174a0619bda09b"
            ],
            "layout": "IPY_MODEL_506b51b02f264362a837c7b63b2fa16e"
          }
        },
        "b84f47ad66d44767a8a978fd8a585aef": {
          "model_module": "@jupyter-widgets/controls",
          "model_module_version": "1.5.0",
          "model_name": "ProgressStyleModel",
          "state": {
            "_model_module": "@jupyter-widgets/controls",
            "_model_module_version": "1.5.0",
            "_model_name": "ProgressStyleModel",
            "_view_count": null,
            "_view_module": "@jupyter-widgets/base",
            "_view_module_version": "1.2.0",
            "_view_name": "StyleView",
            "bar_color": null,
            "description_width": ""
          }
        },
        "ba21969bab124b4e89111d677f64de17": {
          "model_module": "@jupyter-widgets/controls",
          "model_module_version": "1.5.0",
          "model_name": "DescriptionStyleModel",
          "state": {
            "_model_module": "@jupyter-widgets/controls",
            "_model_module_version": "1.5.0",
            "_model_name": "DescriptionStyleModel",
            "_view_count": null,
            "_view_module": "@jupyter-widgets/base",
            "_view_module_version": "1.2.0",
            "_view_name": "StyleView",
            "description_width": ""
          }
        },
        "c52f4a116ac0475792786df43391da31": {
          "model_module": "@jupyter-widgets/controls",
          "model_module_version": "1.5.0",
          "model_name": "DescriptionStyleModel",
          "state": {
            "_model_module": "@jupyter-widgets/controls",
            "_model_module_version": "1.5.0",
            "_model_name": "DescriptionStyleModel",
            "_view_count": null,
            "_view_module": "@jupyter-widgets/base",
            "_view_module_version": "1.2.0",
            "_view_name": "StyleView",
            "description_width": ""
          }
        },
        "cd3fad87eec54068822b0721e58e9796": {
          "model_module": "@jupyter-widgets/controls",
          "model_module_version": "1.5.0",
          "model_name": "HTMLModel",
          "state": {
            "_dom_classes": [],
            "_model_module": "@jupyter-widgets/controls",
            "_model_module_version": "1.5.0",
            "_model_name": "HTMLModel",
            "_view_count": null,
            "_view_module": "@jupyter-widgets/controls",
            "_view_module_version": "1.5.0",
            "_view_name": "HTMLView",
            "description": "",
            "description_tooltip": null,
            "layout": "IPY_MODEL_12379b91f43d477fa27170daddeb9369",
            "placeholder": "​",
            "style": "IPY_MODEL_c52f4a116ac0475792786df43391da31",
            "value": "100%"
          }
        },
        "dc90ebde1df94b8e921938d6146e2617": {
          "model_module": "@jupyter-widgets/controls",
          "model_module_version": "1.5.0",
          "model_name": "HTMLModel",
          "state": {
            "_dom_classes": [],
            "_model_module": "@jupyter-widgets/controls",
            "_model_module_version": "1.5.0",
            "_model_name": "HTMLModel",
            "_view_count": null,
            "_view_module": "@jupyter-widgets/controls",
            "_view_module_version": "1.5.0",
            "_view_name": "HTMLView",
            "description": "",
            "description_tooltip": null,
            "layout": "IPY_MODEL_158843476d7541beb3067ca7127de1a0",
            "placeholder": "​",
            "style": "IPY_MODEL_ba21969bab124b4e89111d677f64de17",
            "value": "100%"
          }
        },
        "efbe98b509c444509d33745aa79036c0": {
          "model_module": "@jupyter-widgets/controls",
          "model_module_version": "1.5.0",
          "model_name": "HTMLModel",
          "state": {
            "_dom_classes": [],
            "_model_module": "@jupyter-widgets/controls",
            "_model_module_version": "1.5.0",
            "_model_name": "HTMLModel",
            "_view_count": null,
            "_view_module": "@jupyter-widgets/controls",
            "_view_module_version": "1.5.0",
            "_view_name": "HTMLView",
            "description": "",
            "description_tooltip": null,
            "layout": "IPY_MODEL_517d5f66cd154580adc0d63ced53717a",
            "placeholder": "​",
            "style": "IPY_MODEL_fa084275366141008eebae1bb628e9cb",
            "value": " 330/330 [00:20&lt;00:00, 18.45it/s]"
          }
        },
        "fa084275366141008eebae1bb628e9cb": {
          "model_module": "@jupyter-widgets/controls",
          "model_module_version": "1.5.0",
          "model_name": "DescriptionStyleModel",
          "state": {
            "_model_module": "@jupyter-widgets/controls",
            "_model_module_version": "1.5.0",
            "_model_name": "DescriptionStyleModel",
            "_view_count": null,
            "_view_module": "@jupyter-widgets/base",
            "_view_module_version": "1.2.0",
            "_view_name": "StyleView",
            "description_width": ""
          }
        }
      }
    }
  },
  "nbformat": 4,
  "nbformat_minor": 0
}
