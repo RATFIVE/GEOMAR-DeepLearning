{
 "cells": [
  {
   "cell_type": "code",
   "execution_count": 3,
   "metadata": {},
   "outputs": [],
   "source": [
    "import requests\n",
    "import bs4 \n",
    "import time\n",
    "from tqdm import tqdm"
   ]
  },
  {
   "cell_type": "code",
   "execution_count": 4,
   "metadata": {},
   "outputs": [
    {
     "name": "stdout",
     "output_type": "stream",
     "text": [
      "['?C=N;O=D', '?C=M;O=A', '?C=S;O=A', '?C=D;O=A', '/glo_multiparameter_nrt/', 'BO/', 'CT/', 'DB/', 'FB/', 'GL/', 'HF/', 'ML/', 'MO/', 'PF/', 'RF/', 'SD/', 'SM/', 'TG/', 'TS/', 'TX/', 'VA/', 'XB/', 'XX/']\n"
     ]
    }
   ],
   "source": [
    "import requests\n",
    "from bs4 import BeautifulSoup\n",
    "\n",
    "url = \"https://data-marineinsitu.ifremer.fr/glo_multiparameter_nrt/history/\"\n",
    "response = requests.get(url)\n",
    "\n",
    "if response.status_code == 200:\n",
    "    soup = BeautifulSoup(response.text, \"html.parser\")\n",
    "    # Beispiel: Alle Links auf der Seite ausgeben\n",
    "    links = [a['href'] for a in soup.find_all('a', href=True)]\n",
    "    print(links)\n",
    "else:\n",
    "    print(\"Fehler beim Zugriff:\", response.status_code)\n"
   ]
  },
  {
   "cell_type": "code",
   "execution_count": 5,
   "metadata": {},
   "outputs": [
    {
     "name": "stderr",
     "output_type": "stream",
     "text": [
      "Download:   0%|          | 0/18 [00:00<?, ?it/s]"
     ]
    },
    {
     "name": "stderr",
     "output_type": "stream",
     "text": [
      "Download: 100%|██████████| 18/18 [35:52<00:00, 119.56s/it]\n"
     ]
    }
   ],
   "source": [
    "# Liste der gewünschten Elemente\n",
    "elements = {'BO/', 'CT/', 'DB/', 'FB/', 'GL/', 'HF/', 'ML/', 'MO/', 'PF/', 'RF/',\n",
    "                        'SD/', 'SM/', 'TG/', 'TS/', 'TX/', 'VA/', 'XB/', 'XX/'}\n",
    "\n",
    "filtered_links = [link for link in links if link in elements]\n",
    "\n",
    "\n",
    "for link in tqdm(filtered_links, desc='Download'):\n",
    "    child_url = url + link\n",
    "    response = requests.get(child_url)\n",
    "    if response.status_code == 200:\n",
    "        soup = BeautifulSoup(response.text, \"html.parser\")\n",
    "        # Beispiel: Alle Links auf der Seite ausgeben\n",
    "        links = [a['href'] for a in soup.find_all('a', href=True)]\n",
    "        sub_links = [link for link in links if link.endswith('.nc')]\n",
    "        sub_links = [link for link in links if link.startswith('NO')]\n",
    "\n",
    "        for link in sub_links:\n",
    "            data_url = child_url + link\n",
    "            response = requests.get(data_url)\n",
    "            if response.status_code == 200:\n",
    "                with open(link, 'wb') as f:\n",
    "                    f.write(response.content)\n",
    "            else:\n",
    "                print(\"Fehler beim Zugriff:\", response.status_code)\n",
    "            \n",
    "            time.sleep(1)\n",
    "            \n",
    "            \n",
    "            \n",
    "        \n",
    "        \n",
    "    else:\n",
    "        print(\"Fehler beim Zugriff:\", response.status_code)\n",
    "    \n",
    "    time.sleep(1)\n"
   ]
  },
  {
   "cell_type": "code",
   "execution_count": null,
   "metadata": {},
   "outputs": [],
   "source": [
    "\n",
    "\n"
   ]
  }
 ],
 "metadata": {
  "kernelspec": {
   "display_name": ".main",
   "language": "python",
   "name": "python3"
  },
  "language_info": {
   "codemirror_mode": {
    "name": "ipython",
    "version": 3
   },
   "file_extension": ".py",
   "mimetype": "text/x-python",
   "name": "python",
   "nbconvert_exporter": "python",
   "pygments_lexer": "ipython3",
   "version": "3.12.3"
  }
 },
 "nbformat": 4,
 "nbformat_minor": 2
}
