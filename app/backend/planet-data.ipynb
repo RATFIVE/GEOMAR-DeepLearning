{
 "cells": [
  {
   "cell_type": "code",
   "execution_count": 1,
   "metadata": {},
   "outputs": [],
   "source": [
    "from utils.Database import Database\n",
    "from utils.PlanetPositions import PlanetPositions\n",
    "import pandas as pd\n",
    "import numpy as np\n",
    "import datetime\n",
    "from tqdm import tqdm\n",
    "import json"
   ]
  },
  {
   "cell_type": "code",
   "execution_count": 2,
   "metadata": {},
   "outputs": [],
   "source": [
    "# Define Absolute maximum and minimum values for date and location\n",
    "ABSOLUTE_END_DATE:str = datetime.datetime.now().isoformat().split(\"T\")[0]\n",
    "\n",
    "\n",
    "START_DATE:str = \"2025-01-01\"\n",
    "END_DATE:str = \"2025-02-1\"\n",
    "\n",
    "DB_URL = 'localhost'\n",
    "#DB_URL = 'host.docker.internal'\n",
    "DB_NAME = 'deep-learning'\n",
    "DB_COLLECTION = 'planet-data'"
   ]
  },
  {
   "cell_type": "code",
   "execution_count": 3,
   "metadata": {},
   "outputs": [],
   "source": [
    "\n",
    "# ------------ Helper Functions ------------\n",
    "\n",
    "def process_dataframe(df:pd.DataFrame) -> pd.DataFrame:\n",
    "    for column in df.select_dtypes(include=[\"float\"]).columns:\n",
    "        df[column] = df[column].astype(np.float32)  # Konvertiere alle Float-Typen zu float32\n",
    "    df['time'] = pd.to_datetime(df['time'], unit='s', format='ISO8601').dt.tz_localize(None).dt.round('H')\n",
    "# df['time'] = pd.to_datetime(df['time'])\n",
    "\n",
    "# # Runde auf die nächste Stunde\n",
    "# df['time'] = df['time'].dt.round('H')\n",
    "    return df"
   ]
  },
  {
   "cell_type": "code",
   "execution_count": 4,
   "metadata": {},
   "outputs": [],
   "source": [
    "pp = PlanetPositions(start_date=START_DATE, stop_date=END_DATE, step='1h')\n",
    "pp.fetch_data()\n",
    "pp.convert_time()\n",
    "df_planet = pp.get_dataframe()\n",
    "\n"
   ]
  },
  {
   "cell_type": "code",
   "execution_count": 5,
   "metadata": {},
   "outputs": [
    {
     "name": "stderr",
     "output_type": "stream",
     "text": [
      "/var/folders/zf/vdfq8dnn2yj6j643_88nnsk80000gn/T/ipykernel_42916/2594670233.py:6: FutureWarning: 'H' is deprecated and will be removed in a future version, please use 'h' instead.\n",
      "  df['time'] = pd.to_datetime(df['time'], unit='s', format='ISO8601').dt.tz_localize(None).dt.round('H')\n"
     ]
    },
    {
     "data": {
      "text/html": [
       "<div>\n",
       "<style scoped>\n",
       "    .dataframe tbody tr th:only-of-type {\n",
       "        vertical-align: middle;\n",
       "    }\n",
       "\n",
       "    .dataframe tbody tr th {\n",
       "        vertical-align: top;\n",
       "    }\n",
       "\n",
       "    .dataframe thead th {\n",
       "        text-align: right;\n",
       "    }\n",
       "</style>\n",
       "<table border=\"1\" class=\"dataframe\">\n",
       "  <thead>\n",
       "    <tr style=\"text-align: right;\">\n",
       "      <th></th>\n",
       "      <th>time</th>\n",
       "      <th>planet</th>\n",
       "      <th>x</th>\n",
       "      <th>y</th>\n",
       "      <th>z</th>\n",
       "      <th>vx</th>\n",
       "      <th>vy</th>\n",
       "      <th>vz</th>\n",
       "      <th>lighttime</th>\n",
       "      <th>range</th>\n",
       "      <th>range_rate</th>\n",
       "    </tr>\n",
       "  </thead>\n",
       "  <tbody>\n",
       "    <tr>\n",
       "      <th>0</th>\n",
       "      <td>2025-01-01 01:00:00</td>\n",
       "      <td>Mercury (199)</td>\n",
       "      <td>-0.208620</td>\n",
       "      <td>-1.128707</td>\n",
       "      <td>0.022359</td>\n",
       "      <td>0.022229</td>\n",
       "      <td>-0.021550</td>\n",
       "      <td>-0.002483</td>\n",
       "      <td>0.006631</td>\n",
       "      <td>1.148042</td>\n",
       "      <td>0.017099</td>\n",
       "    </tr>\n",
       "    <tr>\n",
       "      <th>1</th>\n",
       "      <td>2025-01-01 02:00:00</td>\n",
       "      <td>Mercury (199)</td>\n",
       "      <td>-0.207692</td>\n",
       "      <td>-1.129604</td>\n",
       "      <td>0.022255</td>\n",
       "      <td>0.022291</td>\n",
       "      <td>-0.021510</td>\n",
       "      <td>-0.002487</td>\n",
       "      <td>0.006635</td>\n",
       "      <td>1.148754</td>\n",
       "      <td>0.017073</td>\n",
       "    </tr>\n",
       "    <tr>\n",
       "      <th>2</th>\n",
       "      <td>2025-01-01 03:00:00</td>\n",
       "      <td>Mercury (199)</td>\n",
       "      <td>-0.206762</td>\n",
       "      <td>-1.130499</td>\n",
       "      <td>0.022152</td>\n",
       "      <td>0.022353</td>\n",
       "      <td>-0.021471</td>\n",
       "      <td>-0.002490</td>\n",
       "      <td>0.006639</td>\n",
       "      <td>1.149465</td>\n",
       "      <td>0.017048</td>\n",
       "    </tr>\n",
       "    <tr>\n",
       "      <th>3</th>\n",
       "      <td>2025-01-01 04:00:00</td>\n",
       "      <td>Mercury (199)</td>\n",
       "      <td>-0.205829</td>\n",
       "      <td>-1.131393</td>\n",
       "      <td>0.022048</td>\n",
       "      <td>0.022414</td>\n",
       "      <td>-0.021431</td>\n",
       "      <td>-0.002494</td>\n",
       "      <td>0.006643</td>\n",
       "      <td>1.150175</td>\n",
       "      <td>0.017022</td>\n",
       "    </tr>\n",
       "    <tr>\n",
       "      <th>4</th>\n",
       "      <td>2025-01-01 05:00:00</td>\n",
       "      <td>Mercury (199)</td>\n",
       "      <td>-0.204894</td>\n",
       "      <td>-1.132285</td>\n",
       "      <td>0.021944</td>\n",
       "      <td>0.022476</td>\n",
       "      <td>-0.021391</td>\n",
       "      <td>-0.002498</td>\n",
       "      <td>0.006647</td>\n",
       "      <td>1.150884</td>\n",
       "      <td>0.016996</td>\n",
       "    </tr>\n",
       "  </tbody>\n",
       "</table>\n",
       "</div>"
      ],
      "text/plain": [
       "                 time         planet         x         y         z        vx  \\\n",
       "0 2025-01-01 01:00:00  Mercury (199) -0.208620 -1.128707  0.022359  0.022229   \n",
       "1 2025-01-01 02:00:00  Mercury (199) -0.207692 -1.129604  0.022255  0.022291   \n",
       "2 2025-01-01 03:00:00  Mercury (199) -0.206762 -1.130499  0.022152  0.022353   \n",
       "3 2025-01-01 04:00:00  Mercury (199) -0.205829 -1.131393  0.022048  0.022414   \n",
       "4 2025-01-01 05:00:00  Mercury (199) -0.204894 -1.132285  0.021944  0.022476   \n",
       "\n",
       "         vy        vz  lighttime     range  range_rate  \n",
       "0 -0.021550 -0.002483   0.006631  1.148042    0.017099  \n",
       "1 -0.021510 -0.002487   0.006635  1.148754    0.017073  \n",
       "2 -0.021471 -0.002490   0.006639  1.149465    0.017048  \n",
       "3 -0.021431 -0.002494   0.006643  1.150175    0.017022  \n",
       "4 -0.021391 -0.002498   0.006647  1.150884    0.016996  "
      ]
     },
     "metadata": {},
     "output_type": "display_data"
    },
    {
     "name": "stdout",
     "output_type": "stream",
     "text": [
      "<class 'pandas.core.frame.DataFrame'>\n",
      "RangeIndex: 6705 entries, 0 to 6704\n",
      "Data columns (total 11 columns):\n",
      " #   Column      Non-Null Count  Dtype         \n",
      "---  ------      --------------  -----         \n",
      " 0   time        6705 non-null   datetime64[ns]\n",
      " 1   planet      6705 non-null   object        \n",
      " 2   x           6705 non-null   float32       \n",
      " 3   y           6705 non-null   float32       \n",
      " 4   z           6705 non-null   float32       \n",
      " 5   vx          6705 non-null   float32       \n",
      " 6   vy          6705 non-null   float32       \n",
      " 7   vz          6705 non-null   float32       \n",
      " 8   lighttime   6705 non-null   float32       \n",
      " 9   range       6705 non-null   float32       \n",
      " 10  range_rate  6705 non-null   float32       \n",
      "dtypes: datetime64[ns](1), float32(9), object(1)\n",
      "memory usage: 340.6+ KB\n"
     ]
    },
    {
     "data": {
      "text/plain": [
       "None"
      ]
     },
     "metadata": {},
     "output_type": "display_data"
    }
   ],
   "source": [
    "\n",
    "# convert colum datetime to YYYY-MM-DD HH:MM:SS\n",
    "#df_planet['datetime'] = df_planet['datetime'].dt.strftime('%Y-%m-%d %H:%M:%S')\n",
    "df_planet = df_planet.drop(columns=['datetime_str', 'planet']).rename(columns={'datetime':'time', 'targetname':'planet'})\n",
    "# put time column to the first position\n",
    "df_planet = df_planet[['time'] + [col for col in df_planet.columns if col != 'time']]\n",
    "\n",
    "df_planet = process_dataframe(df_planet)\n",
    "display(df_planet.head())\n",
    "display(df_planet.info())"
   ]
  },
  {
   "cell_type": "code",
   "execution_count": 6,
   "metadata": {},
   "outputs": [
    {
     "name": "stderr",
     "output_type": "stream",
     "text": [
      "/var/folders/zf/vdfq8dnn2yj6j643_88nnsk80000gn/T/ipykernel_42916/2594670233.py:6: FutureWarning: 'H' is deprecated and will be removed in a future version, please use 'h' instead.\n",
      "  df['time'] = pd.to_datetime(df['time'], unit='s', format='ISO8601').dt.tz_localize(None).dt.round('H')\n"
     ]
    }
   ],
   "source": [
    "db = Database(\n",
    "    db_url=DB_URL,\n",
    "    db_name=DB_NAME,\n",
    "    collection_name=DB_COLLECTION\n",
    "    )\n",
    "    \n",
    "\n",
    "db_data_all = db.get_all_data(key=\"time\")\n",
    "db.close_connection()\n",
    "\n",
    "if db_data_all:\n",
    "    df_db = pd.DataFrame(db_data_all).drop(columns=['_id']).loc[:, ['time', 'planet']]\n",
    "\n",
    "    df_db = process_dataframe(df_db)\n",
    "\n",
    "    # Filtere Zeilen, die in df_db existieren\n",
    "    db_tuples = set(zip(df_db[\"time\"], df_db[\"planet\"]))\n",
    "    df_planet = df_planet[~df_planet.apply(lambda row: (row[\"time\"], row[\"planet\"]) in db_tuples, axis=1)]\n",
    "\n"
   ]
  },
  {
   "cell_type": "code",
   "execution_count": 7,
   "metadata": {},
   "outputs": [
    {
     "name": "stdout",
     "output_type": "stream",
     "text": [
      "<class 'pandas.core.frame.DataFrame'>\n",
      "Index: 3356 entries, 3349 to 6704\n",
      "Data columns (total 11 columns):\n",
      " #   Column      Non-Null Count  Dtype         \n",
      "---  ------      --------------  -----         \n",
      " 0   time        3356 non-null   datetime64[ns]\n",
      " 1   planet      3356 non-null   object        \n",
      " 2   x           3356 non-null   float32       \n",
      " 3   y           3356 non-null   float32       \n",
      " 4   z           3356 non-null   float32       \n",
      " 5   vx          3356 non-null   float32       \n",
      " 6   vy          3356 non-null   float32       \n",
      " 7   vz          3356 non-null   float32       \n",
      " 8   lighttime   3356 non-null   float32       \n",
      " 9   range       3356 non-null   float32       \n",
      " 10  range_rate  3356 non-null   float32       \n",
      "dtypes: datetime64[ns](1), float32(9), object(1)\n",
      "memory usage: 196.6+ KB\n"
     ]
    }
   ],
   "source": [
    "df_planet.info()"
   ]
  },
  {
   "cell_type": "code",
   "execution_count": 8,
   "metadata": {},
   "outputs": [
    {
     "data": {
      "text/plain": [
       "array(['Jupiter (599)', 'Saturn (699)', 'Uranus (799)', 'Neptune (899)',\n",
       "       'Moon (301)'], dtype=object)"
      ]
     },
     "execution_count": 8,
     "metadata": {},
     "output_type": "execute_result"
    }
   ],
   "source": [
    "df_planet['planet'].unique()"
   ]
  },
  {
   "cell_type": "code",
   "execution_count": 9,
   "metadata": {},
   "outputs": [],
   "source": [
    "# Helper Function\n",
    "def upload_article_if_new(db_data, not_db_data):\n",
    "    # Check if the article is already in the database\n",
    "    for doc in db_data:\n",
    "        if (doc.get('time') == not_db_data.get('time')) and (doc.get('planet') == not_db_data.get('planet')):\n",
    "            #print('Data already in the database, skipping upload...\\n')\n",
    "            return False\n",
    "        \n",
    "    return True"
   ]
  },
  {
   "cell_type": "code",
   "execution_count": null,
   "metadata": {},
   "outputs": [
    {
     "name": "stdout",
     "output_type": "stream",
     "text": [
      "\n",
      "Parsing data to upload to Database...\n",
      "\n"
     ]
    },
    {
     "name": "stderr",
     "output_type": "stream",
     "text": [
      "Uploading data to Database:  46%|████▌     | 1545/3356 [03:32<05:33,  5.43it/s]Exception ignored in: <bound method IPythonKernel._clean_thread_parent_frames of <ipykernel.ipkernel.IPythonKernel object at 0x10a79e750>>\n",
      "Traceback (most recent call last):\n",
      "  File \"/Users/marco/Documents/VirtualEnvironments/.main/lib/python3.11/site-packages/ipykernel/ipkernel.py\", line 775, in _clean_thread_parent_frames\n",
      "    def _clean_thread_parent_frames(\n",
      "\n",
      "KeyboardInterrupt: \n",
      "Uploading data to Database:  48%|████▊     | 1613/3356 [03:45<06:41,  4.34it/s]"
     ]
    }
   ],
   "source": [
    "print(\"\\nParsing data to upload to Database...\\n\")\n",
    "\n",
    "# upload to database\n",
    "df_json = df_planet.to_json(orient='records')\n",
    "df_json = json.loads(df_json)\n",
    "for item in tqdm(df_json, desc=\"Uploading data to Database\", total=len(df_json)):\n",
    "    item[\"time\"] = pd.to_datetime(item[\"time\"], unit='ms')\n",
    "\n",
    "\n",
    "    db = Database(\n",
    "        db_url=DB_URL,\n",
    "        db_name=DB_NAME,\n",
    "        collection_name=DB_COLLECTION\n",
    "        )\n",
    "\n",
    "    db_data_all = db.get_all_data(key=\"time\")\n",
    "    if upload_article_if_new(db_data_all, item) == False:\n",
    "        continue\n",
    "\n",
    "    db.upload_one(item)\n",
    "    #print(f\"Data for {item['planet']} at {item['time']} uploaded to Database successfully!\\n\")\n",
    "    db.close_connection()\n",
    "\n",
    "print(\"Data uploaded to Database successfully!\\n\")\n",
    "print(\"Finished!\\n\")"
   ]
  }
 ],
 "metadata": {
  "kernelspec": {
   "display_name": ".main",
   "language": "python",
   "name": ".main"
  },
  "language_info": {
   "codemirror_mode": {
    "name": "ipython",
    "version": 3
   },
   "file_extension": ".py",
   "mimetype": "text/x-python",
   "name": "python",
   "nbconvert_exporter": "python",
   "pygments_lexer": "ipython3",
   "version": "3.11.8"
  }
 },
 "nbformat": 4,
 "nbformat_minor": 2
}
