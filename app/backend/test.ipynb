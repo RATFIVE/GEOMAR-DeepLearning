{
 "cells": [
  {
   "cell_type": "code",
   "execution_count": null,
   "metadata": {},
   "outputs": [
    {
     "name": "stdout",
     "output_type": "stream",
     "text": [
      "\n",
      "Fetching data from AdvancedCopernicus...\n",
      "\n"
     ]
    },
    {
     "name": "stderr",
     "output_type": "stream",
     "text": [
      "INFO - 2025-02-24T15:18:14Z - Selected dataset version: \"202411\"\n",
      "INFO - 2025-02-24T15:18:14Z - Selected dataset part: \"default\"\n",
      "INFO - 2025-02-24T15:18:19Z - Starting download. Please wait...\n"
     ]
    },
    {
     "data": {
      "application/vnd.jupyter.widget-view+json": {
       "model_id": "f90db193bc1946f4a677e6659497c67a",
       "version_major": 2,
       "version_minor": 0
      },
      "text/plain": [
       "  0%|          | 0/44 [00:00<?, ?it/s]"
      ]
     },
     "metadata": {},
     "output_type": "display_data"
    },
    {
     "name": "stderr",
     "output_type": "stream",
     "text": [
      "INFO - 2025-02-24T15:18:22Z - Successfully downloaded to output.nc\n"
     ]
    },
    {
     "name": "stdout",
     "output_type": "stream",
     "text": [
      "Removed 5874 existing records from the Copernicus data\n",
      "Reduced data: 44041 rows\n",
      "Unique locations: 67, Unique times: 745\n",
      "Processing 2025-01-09 for 10 locations...\n"
     ]
    },
    {
     "name": "stderr",
     "output_type": "stream",
     "text": [
      "Processing weather data: 100%|██████████| 10/10 [00:00<00:00, 332.36it/s]\n"
     ]
    }
   ],
   "source": [
    "from utils.Database import Database\n",
    "from utils.Copernicus import AdvancedCopernicus\n",
    "from utils.OpenMeteoWeather import OpenMeteoWeather\n",
    "import pandas as pd\n",
    "import numpy as np\n",
    "import datetime\n",
    "import json\n",
    "\n",
    "# ------------ Initialize Global Variables ------------\n",
    "ABSOLUTE_END_DATE = datetime.datetime.now().strftime(\"%Y-%m-%d\")\n",
    "\n",
    "START_DATE = \"2025-01-01\"\n",
    "END_DATE = \"2025-02-01\"\n",
    "\n",
    "# Define bounding box for data retrieval\n",
    "BBOX = {\n",
    "    \"min_lon\": 10.038345850696412,\n",
    "    \"max_lon\": 10.365962458698567,\n",
    "    \"min_lat\": 54.27381478077755,\n",
    "    \"max_lat\": 54.52976525577923\n",
    "}\n",
    "\n",
    "OUTPUT_FILENAME = \"output.nc\"\n",
    "\n",
    "DB_CONFIG = {\n",
    "    \"url\": \"localhost\",\n",
    "    \"name\": \"deep-learning\",\n",
    "    \"collection\": \"test\"\n",
    "}\n",
    "\n",
    "# ------------ Helper Functions ------------\n",
    "def process_dataframe(df: pd.DataFrame, convert_time: bool = False) -> pd.DataFrame:\n",
    "    \"\"\"Converts float columns to float32 and rounds latitude/longitude for consistency.\"\"\"\n",
    "    float_cols = df.select_dtypes(include=[\"float\"]).columns\n",
    "    df[float_cols] = df[float_cols].astype(np.float32)\n",
    "\n",
    "    df[\"latitude\"] = df[\"latitude\"].astype(np.float32).round(6)\n",
    "    df[\"longitude\"] = df[\"longitude\"].astype(np.float32).round(6)\n",
    "\n",
    "    if convert_time and not np.issubdtype(df['time'].dtype, np.datetime64):\n",
    "        df[\"time\"] = pd.to_datetime(df[\"time\"])\n",
    "\n",
    "    return df\n",
    "\n",
    "# ------------ Fetch Data from AdvancedCopernicus ------------\n",
    "print(\"\\nFetching data from AdvancedCopernicus...\\n\")\n",
    "copernicus = AdvancedCopernicus()\n",
    "copernicus_data = copernicus.get_subset(\n",
    "    dataset_id=\"cmems_mod_bal_phy_anfc_PT1H-i\",\n",
    "    dataset_version=\"202411\",\n",
    "    variables=[\"bottomT\", \"mlotst\", \"siconc\", \"sithick\", \"sla\", \"so\", \"sob\", \"thetao\", \"uo\", \"vo\", \"wo\"],\n",
    "    minimum_longitude=BBOX[\"min_lon\"],\n",
    "    maximum_longitude=BBOX[\"max_lon\"],\n",
    "    minimum_latitude=BBOX[\"min_lat\"],\n",
    "    maximum_latitude=BBOX[\"max_lat\"],\n",
    "    start_datetime=START_DATE,\n",
    "    end_datetime=END_DATE,\n",
    "    minimum_depth=0.5016462206840515,\n",
    "    maximum_depth=0.5016462206840515,\n",
    "    coordinates_selection_method=\"strict-inside\",\n",
    "    disable_progress_bar=False,\n",
    "    output_filename=OUTPUT_FILENAME\n",
    ")\n",
    "\n",
    "df_copernicus = copernicus_data.to_dataframe().reset_index()\n",
    "df_copernicus = df_copernicus[[\"time\"] + [col for col in df_copernicus.columns if col != \"time\"]]\n",
    "\n",
    "# Remove rows where all key variables are NaN\n",
    "key_vars = [\"bottomT\", \"mlotst\", \"siconc\", \"sithick\", \"sla\", \"so\", \"sob\", \"thetao\", \"uo\", \"vo\", \"wo\"]\n",
    "df_copernicus.dropna(subset=key_vars, how=\"all\", inplace=True, axis=0)\n",
    "df_copernicus = process_dataframe(df_copernicus, convert_time=True)\n",
    "\n",
    "# ------------ Fetch Existing Data from Database ------------\n",
    "db = Database(db_url=DB_CONFIG[\"url\"], db_name=DB_CONFIG[\"name\"], collection_name=DB_CONFIG[\"collection\"])\n",
    "db_data_all = db.get_all_data(key=\"time\")\n",
    "db.close_connection()\n",
    "\n",
    "if db_data_all:\n",
    "    df_db = pd.DataFrame(db_data_all).drop(columns=[\"_id\"])[[\"time\", \"latitude\", \"longitude\"]]\n",
    "    df_db = process_dataframe(df_db, convert_time=True)\n",
    "    len_before = len(df_copernicus)\n",
    "    # Use a performant merge operation instead of looping\n",
    "    df_copernicus = df_copernicus.merge(df_db, on=[\"time\", \"latitude\", \"longitude\"], how=\"left\", indicator=True)\n",
    "    df_copernicus = df_copernicus[df_copernicus[\"_merge\"] == \"left_only\"].drop(columns=[\"_merge\"])\n",
    "    len_after = len(df_copernicus)\n",
    "    print(f\"Removed {len_before - len_after} existing records from the Copernicus data\")\n",
    "    print(f\"Reduced data: {len(df_copernicus)} rows\")\n",
    "\n",
    "# ------------ Fetch OpenMeteoWeather Data and Upload ------------\n",
    "unique_times = df_copernicus[\"time\"].unique()\n",
    "\n",
    "# Extract unique latitude-longitude pairs\n",
    "lat_lon_list = sorted(set(zip(df_copernicus[\"latitude\"], df_copernicus[\"longitude\"])))\n",
    "latitudes, longitudes = zip(*lat_lon_list)\n",
    "\n",
    "print(f\"Unique locations: {len(lat_lon_list)}, Unique times: {len(unique_times)}\")\n",
    "\n",
    "db = Database(db_url=DB_CONFIG[\"url\"], db_name=DB_CONFIG[\"name\"], collection_name=DB_CONFIG[\"collection\"])\n",
    "\n",
    "for i in range(0, len(unique_times), 10):\n",
    "    time = unique_times[i]\n",
    "    time_str = time.strftime(\"%Y-%m-%d\")\n",
    "\n",
    "    lat_subset = latitudes[:i + 10]\n",
    "    lon_subset = longitudes[:i + 10]\n",
    "\n",
    "    print(f\"Processing {time_str} for {len(lat_subset)} locations...\")\n",
    "\n",
    "    open_meteo_weather = OpenMeteoWeather(\n",
    "        latitudes=lat_subset,\n",
    "        longitudes=lon_subset,\n",
    "        start_date=time_str,\n",
    "        end_date=time_str\n",
    "    )\n",
    "    df_openweather = open_meteo_weather.get_weather_dataframe()\n",
    "    df_openweather = df_openweather[[\"time\"] + [col for col in df_openweather.columns if col != \"time\"]]\n",
    "    df_openweather = process_dataframe(df_openweather, convert_time=True)\n",
    "\n",
    "    df_merged = pd.merge(df_copernicus, df_openweather, on=[\"time\", \"latitude\", \"longitude\"], how=\"inner\")\n",
    "\n",
    "    if not df_merged.empty:\n",
    "        db.upload_many(df_merged.to_dict(orient=\"records\"))\n",
    "        print(f\"Uploaded {len(df_merged)} records to the database\")\n",
    "    break\n",
    "db.close_connection()\n",
    "#48121"
   ]
  }
 ],
 "metadata": {
  "kernelspec": {
   "display_name": ".main",
   "language": "python",
   "name": ".main"
  },
  "language_info": {
   "codemirror_mode": {
    "name": "ipython",
    "version": 3
   },
   "file_extension": ".py",
   "mimetype": "text/x-python",
   "name": "python",
   "nbconvert_exporter": "python",
   "pygments_lexer": "ipython3",
   "version": "3.11.8"
  }
 },
 "nbformat": 4,
 "nbformat_minor": 2
}
