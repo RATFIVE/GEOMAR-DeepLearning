{
 "cells": [
  {
   "cell_type": "code",
   "execution_count": 14,
   "metadata": {},
   "outputs": [],
   "source": [
    "import fastapi\n",
    "import pandas as pd\n",
    "import numpy as np\n",
    "from utils.Database import Database\n",
    "\n",
    "\n",
    "DB_CONFIG = {\n",
    "    \"url\": \"localhost\",\n",
    "    \"name\": \"deep-learning\",\n",
    "    \"collection\": \"test\"\n",
    "}\n",
    "\n",
    "db = Database(\n",
    "    db_url=DB_CONFIG[\"url\"], \n",
    "    db_name=DB_CONFIG[\"name\"], \n",
    "    collection_name=DB_CONFIG[\"collection\"]\n",
    "    )\n",
    "\n",
    "db_data_all = db.get_all_data(key=\"time\")\n",
    "db.close_connection()\n",
    "\n",
    "df_db = pd.DataFrame(db_data_all).drop(columns=[\"_id\"])\n",
    "\n"
   ]
  },
  {
   "cell_type": "code",
   "execution_count": 23,
   "metadata": {},
   "outputs": [],
   "source": [
    "def process_dataframe(df: pd.DataFrame, convert_time: bool = False, drop_duplicates: bool = False, reorder: bool = False) -> pd.DataFrame:\n",
    "    \"\"\"Converts float columns to float32 and rounds latitude/longitude for consistency.\"\"\"\n",
    "    \n",
    "    if drop_duplicates:\n",
    "        df = df.drop_duplicates(keep='first')\n",
    "        \n",
    "    float_cols = df.select_dtypes(include=[\"float\"]).columns\n",
    "    df[float_cols] = df[float_cols].astype(np.float32)\n",
    "\n",
    "    df[\"latitude\"] = df[\"latitude\"].astype(np.float32).round(6)\n",
    "    df[\"longitude\"] = df[\"longitude\"].astype(np.float32).round(6)\n",
    "\n",
    "    if convert_time and not np.issubdtype(df['time'].dtype, np.datetime64):\n",
    "        df[\"time\"] = pd.to_datetime(df[\"time\"])\n",
    "\n",
    "    # put time, latitude, and longitude sla columns first\n",
    "    if reorder:\n",
    "        cols = [\"time\", \"latitude\", \"longitude\", \"sla\"]\n",
    "        df = df[cols + [col for col in df.columns if col not in cols]]\n",
    "\n",
    "    return df"
   ]
  },
  {
   "cell_type": "code",
   "execution_count": 24,
   "metadata": {},
   "outputs": [
    {
     "name": "stdout",
     "output_type": "stream",
     "text": [
      "(1380, 57)\n",
      "<class 'pandas.core.frame.DataFrame'>\n",
      "Index: 690 entries, 0 to 1376\n",
      "Data columns (total 36 columns):\n",
      " #   Column                      Non-Null Count  Dtype         \n",
      "---  ------                      --------------  -----         \n",
      " 0   time                        690 non-null    datetime64[ns]\n",
      " 1   latitude                    690 non-null    float32       \n",
      " 2   longitude                   690 non-null    float32       \n",
      " 3   sla                         690 non-null    float32       \n",
      " 4   vapour_pressure_deficit     690 non-null    float32       \n",
      " 5   cloud_cover_mid             690 non-null    float32       \n",
      " 6   apparent_temperature        690 non-null    float32       \n",
      " 7   wind_speed_10m              690 non-null    float32       \n",
      " 8   weather_code                690 non-null    float32       \n",
      " 9   wind_direction_10m          690 non-null    float32       \n",
      " 10  rain                        690 non-null    float32       \n",
      " 11  wind_gusts_10m              690 non-null    float32       \n",
      " 12  showers                     690 non-null    float32       \n",
      " 13  mlotst                      690 non-null    float32       \n",
      " 14  temperature_2m              690 non-null    float32       \n",
      " 15  sithick                     690 non-null    float32       \n",
      " 16  dew_point_2m                690 non-null    float32       \n",
      " 17  sob                         690 non-null    float32       \n",
      " 18  snow_depth                  690 non-null    float32       \n",
      " 19  pressure_msl                690 non-null    float32       \n",
      " 20  snowfall                    690 non-null    float32       \n",
      " 21  surface_pressure            690 non-null    float32       \n",
      " 22  so                          690 non-null    float32       \n",
      " 23  relative_humidity_2m        690 non-null    float32       \n",
      " 24  bottomT                     690 non-null    float32       \n",
      " 25  uo                          690 non-null    float32       \n",
      " 26  et0_fao_evapotranspiration  690 non-null    float32       \n",
      " 27  precipitation               690 non-null    float32       \n",
      " 28  cloud_cover                 690 non-null    float32       \n",
      " 29  depth                       690 non-null    float32       \n",
      " 30  vo                          690 non-null    float32       \n",
      " 31  cloud_cover_high            690 non-null    float32       \n",
      " 32  thetao                      690 non-null    float32       \n",
      " 33  siconc                      690 non-null    float32       \n",
      " 34  cloud_cover_low             690 non-null    float32       \n",
      " 35  wo                          690 non-null    float32       \n",
      "dtypes: datetime64[ns](1), float32(35)\n",
      "memory usage: 105.1 KB\n"
     ]
    },
    {
     "name": "stderr",
     "output_type": "stream",
     "text": [
      "/var/folders/zf/vdfq8dnn2yj6j643_88nnsk80000gn/T/ipykernel_24789/93261006.py:8: SettingWithCopyWarning: \n",
      "A value is trying to be set on a copy of a slice from a DataFrame.\n",
      "Try using .loc[row_indexer,col_indexer] = value instead\n",
      "\n",
      "See the caveats in the documentation: https://pandas.pydata.org/pandas-docs/stable/user_guide/indexing.html#returning-a-view-versus-a-copy\n",
      "  df[float_cols] = df[float_cols].astype(np.float32)\n",
      "/var/folders/zf/vdfq8dnn2yj6j643_88nnsk80000gn/T/ipykernel_24789/93261006.py:10: SettingWithCopyWarning: \n",
      "A value is trying to be set on a copy of a slice from a DataFrame.\n",
      "Try using .loc[row_indexer,col_indexer] = value instead\n",
      "\n",
      "See the caveats in the documentation: https://pandas.pydata.org/pandas-docs/stable/user_guide/indexing.html#returning-a-view-versus-a-copy\n",
      "  df[\"latitude\"] = df[\"latitude\"].astype(np.float32).round(6)\n",
      "/var/folders/zf/vdfq8dnn2yj6j643_88nnsk80000gn/T/ipykernel_24789/93261006.py:11: SettingWithCopyWarning: \n",
      "A value is trying to be set on a copy of a slice from a DataFrame.\n",
      "Try using .loc[row_indexer,col_indexer] = value instead\n",
      "\n",
      "See the caveats in the documentation: https://pandas.pydata.org/pandas-docs/stable/user_guide/indexing.html#returning-a-view-versus-a-copy\n",
      "  df[\"longitude\"] = df[\"longitude\"].astype(np.float32).round(6)\n"
     ]
    },
    {
     "data": {
      "text/plain": [
       "None"
      ]
     },
     "metadata": {},
     "output_type": "display_data"
    }
   ],
   "source": [
    "print(df_db.shape)\n",
    "df_cleaned = process_dataframe(df_db, convert_time=True, drop_duplicates=True, reorder=True)\n",
    "df_cleaned = df_cleaned.dropna(axis=1, how='all')\n",
    "display(df_cleaned.info())"
   ]
  }
 ],
 "metadata": {
  "kernelspec": {
   "display_name": ".main",
   "language": "python",
   "name": ".main"
  },
  "language_info": {
   "codemirror_mode": {
    "name": "ipython",
    "version": 3
   },
   "file_extension": ".py",
   "mimetype": "text/x-python",
   "name": "python",
   "nbconvert_exporter": "python",
   "pygments_lexer": "ipython3",
   "version": "3.11.8"
  }
 },
 "nbformat": 4,
 "nbformat_minor": 2
}
